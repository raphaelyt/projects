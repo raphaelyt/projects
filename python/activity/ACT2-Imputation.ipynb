{
 "cells": [
  {
   "cell_type": "markdown",
   "metadata": {},
   "source": [
    "# #1 Importing the Data"
   ]
  },
  {
   "cell_type": "code",
   "execution_count": 257,
   "metadata": {},
   "outputs": [
    {
     "data": {
      "text/plain": [
       "array(['ckd', 'notckd'], dtype=object)"
      ]
     },
     "execution_count": 257,
     "metadata": {},
     "output_type": "execute_result"
    }
   ],
   "source": [
    "import math\n",
    "import pandas as pd\n",
    "import numpy as np\n",
    "from scipy.stats import iqr\n",
    "from matplotlib import pyplot as plt\n",
    "pd.options.mode.chained_assignment = None  # default='warn'\n",
    "\n",
    "main_disease_df = pd.read_csv('/Users/raph/Desktop/csci113/files/kidney_disease.csv')\n",
    "main_disease_df.classification.unique()\n",
    "main_disease_df.classification.loc[(main_disease_df.classification == 'ckd\\t')] = 'ckd'\n",
    "main_disease_df.classification.unique()"
   ]
  },
  {
   "cell_type": "markdown",
   "metadata": {},
   "source": [
    "# #2 Ways to Impute the Given Data\n",
    "\n",
    "1. Upon seeing the data, it is noted that the data focuses heavily on patients. From this, the first method of imputation that can be proposed is a mixed of categorizing the data and applying an arbitary value to missing values. This can be done by categorizing or grouping them into desired groups e.g. age, blood pressure, diabetic, and etc. This is followed by applying central limit tendencies such as solving for the mean, median, or mode of said groups.\n",
    "\n",
    "2. Another method of imputation is using the frequency of categorical values. This can be done by taking the mode of a certain column in the chosen dataframe. If a significant amount of the data seems to gravitate towards 1 categorical value with a few extremeties. It can be assumed that any NaN values present can be assumed to be the majority of the data. \n",
    "\n",
    "3. Another method to impute data is to use existing data to fill in possible gaps. This is especially useful in categorical data as taking the ratios of the event happening to the total number events can show a possible connection. This is similar to an if-then statement in mathematics where $a$ implies $b$. "
   ]
  },
  {
   "cell_type": "markdown",
   "metadata": {},
   "source": [
    "# #3 Removing rows where any NaN values exist."
   ]
  },
  {
   "cell_type": "code",
   "execution_count": 258,
   "metadata": {},
   "outputs": [
    {
     "data": {
      "text/html": [
       "<div>\n",
       "<style scoped>\n",
       "    .dataframe tbody tr th:only-of-type {\n",
       "        vertical-align: middle;\n",
       "    }\n",
       "\n",
       "    .dataframe tbody tr th {\n",
       "        vertical-align: top;\n",
       "    }\n",
       "\n",
       "    .dataframe thead th {\n",
       "        text-align: right;\n",
       "    }\n",
       "</style>\n",
       "<table border=\"1\" class=\"dataframe\">\n",
       "  <thead>\n",
       "    <tr style=\"text-align: right;\">\n",
       "      <th></th>\n",
       "      <th>age</th>\n",
       "      <th>bp</th>\n",
       "      <th>sg</th>\n",
       "      <th>al</th>\n",
       "      <th>su</th>\n",
       "      <th>classification</th>\n",
       "    </tr>\n",
       "  </thead>\n",
       "  <tbody>\n",
       "    <tr>\n",
       "      <th>0</th>\n",
       "      <td>48.0</td>\n",
       "      <td>80.0</td>\n",
       "      <td>1.020</td>\n",
       "      <td>1.0</td>\n",
       "      <td>0.0</td>\n",
       "      <td>ckd</td>\n",
       "    </tr>\n",
       "    <tr>\n",
       "      <th>1</th>\n",
       "      <td>7.0</td>\n",
       "      <td>50.0</td>\n",
       "      <td>1.020</td>\n",
       "      <td>4.0</td>\n",
       "      <td>0.0</td>\n",
       "      <td>ckd</td>\n",
       "    </tr>\n",
       "    <tr>\n",
       "      <th>2</th>\n",
       "      <td>62.0</td>\n",
       "      <td>80.0</td>\n",
       "      <td>1.010</td>\n",
       "      <td>2.0</td>\n",
       "      <td>3.0</td>\n",
       "      <td>ckd</td>\n",
       "    </tr>\n",
       "    <tr>\n",
       "      <th>3</th>\n",
       "      <td>48.0</td>\n",
       "      <td>70.0</td>\n",
       "      <td>1.005</td>\n",
       "      <td>4.0</td>\n",
       "      <td>0.0</td>\n",
       "      <td>ckd</td>\n",
       "    </tr>\n",
       "    <tr>\n",
       "      <th>4</th>\n",
       "      <td>51.0</td>\n",
       "      <td>80.0</td>\n",
       "      <td>1.010</td>\n",
       "      <td>2.0</td>\n",
       "      <td>0.0</td>\n",
       "      <td>ckd</td>\n",
       "    </tr>\n",
       "    <tr>\n",
       "      <th>...</th>\n",
       "      <td>...</td>\n",
       "      <td>...</td>\n",
       "      <td>...</td>\n",
       "      <td>...</td>\n",
       "      <td>...</td>\n",
       "      <td>...</td>\n",
       "    </tr>\n",
       "    <tr>\n",
       "      <th>395</th>\n",
       "      <td>55.0</td>\n",
       "      <td>80.0</td>\n",
       "      <td>1.020</td>\n",
       "      <td>0.0</td>\n",
       "      <td>0.0</td>\n",
       "      <td>notckd</td>\n",
       "    </tr>\n",
       "    <tr>\n",
       "      <th>396</th>\n",
       "      <td>42.0</td>\n",
       "      <td>70.0</td>\n",
       "      <td>1.025</td>\n",
       "      <td>0.0</td>\n",
       "      <td>0.0</td>\n",
       "      <td>notckd</td>\n",
       "    </tr>\n",
       "    <tr>\n",
       "      <th>397</th>\n",
       "      <td>12.0</td>\n",
       "      <td>80.0</td>\n",
       "      <td>1.020</td>\n",
       "      <td>0.0</td>\n",
       "      <td>0.0</td>\n",
       "      <td>notckd</td>\n",
       "    </tr>\n",
       "    <tr>\n",
       "      <th>398</th>\n",
       "      <td>17.0</td>\n",
       "      <td>60.0</td>\n",
       "      <td>1.025</td>\n",
       "      <td>0.0</td>\n",
       "      <td>0.0</td>\n",
       "      <td>notckd</td>\n",
       "    </tr>\n",
       "    <tr>\n",
       "      <th>399</th>\n",
       "      <td>58.0</td>\n",
       "      <td>80.0</td>\n",
       "      <td>1.025</td>\n",
       "      <td>0.0</td>\n",
       "      <td>0.0</td>\n",
       "      <td>notckd</td>\n",
       "    </tr>\n",
       "  </tbody>\n",
       "</table>\n",
       "<p>333 rows × 6 columns</p>\n",
       "</div>"
      ],
      "text/plain": [
       "      age    bp     sg   al   su classification\n",
       "0    48.0  80.0  1.020  1.0  0.0            ckd\n",
       "1     7.0  50.0  1.020  4.0  0.0            ckd\n",
       "2    62.0  80.0  1.010  2.0  3.0            ckd\n",
       "3    48.0  70.0  1.005  4.0  0.0            ckd\n",
       "4    51.0  80.0  1.010  2.0  0.0            ckd\n",
       "..    ...   ...    ...  ...  ...            ...\n",
       "395  55.0  80.0  1.020  0.0  0.0         notckd\n",
       "396  42.0  70.0  1.025  0.0  0.0         notckd\n",
       "397  12.0  80.0  1.020  0.0  0.0         notckd\n",
       "398  17.0  60.0  1.025  0.0  0.0         notckd\n",
       "399  58.0  80.0  1.025  0.0  0.0         notckd\n",
       "\n",
       "[333 rows x 6 columns]"
      ]
     },
     "execution_count": 258,
     "metadata": {},
     "output_type": "execute_result"
    }
   ],
   "source": [
    "# Focusing on the features \"age\", \"bp\", \"sg\", \"al\", and \"sg\"\n",
    "main_df_rv = main_disease_df.iloc[:,[1,2,3,4,5,25]]\n",
    "main_df_rv.dropna(inplace = True)\n",
    "main_df_rv.to_csv(\"kidney_dataset_remove.csv\")\n",
    "main_df_rv"
   ]
  },
  {
   "cell_type": "markdown",
   "metadata": {},
   "source": [
    "# #4: Imputing the Data to Fill NaN Columns"
   ]
  },
  {
   "cell_type": "markdown",
   "metadata": {},
   "source": [
    "### #4a\n",
    " We want to impute the blood pressure of the data (bp). This will be done by applying a binning method by grouping a range of ages into separate bins. Afterwards we can take the average of that range and impute it to those entries where the age column is not missing. Afterwards, we can filter out the disease dataframe to the respective bins and take the averages of the blood pressure as follows:\n",
    "\n"
   ]
  },
  {
   "cell_type": "code",
   "execution_count": 259,
   "metadata": {},
   "outputs": [
    {
     "name": "stdout",
     "output_type": "stream",
     "text": [
      "The number of NaN values under the column 'age' before imputation : 9.\n",
      "The number of NaN values under the column 'bp' before imputation : 12.\n"
     ]
    }
   ],
   "source": [
    "print('The number of NaN values under the column \\'age\\' before imputation : {}.'.format(main_disease_df.age.isna().sum())) \n",
    "print('The number of NaN values under the column \\'bp\\' before imputation : {}.'.format(main_disease_df.bp.isna().sum()))"
   ]
  },
  {
   "cell_type": "code",
   "execution_count": 260,
   "metadata": {},
   "outputs": [
    {
     "name": "stdout",
     "output_type": "stream",
     "text": [
      "The number of NaN values in the column 'bp' is 0\n"
     ]
    }
   ],
   "source": [
    "def freedman_diaconis(vals):\n",
    "    return 2 * (iqr(vals) / (len(vals) ** (1./3)))\n",
    "\n",
    "def FD_binning(main_df, variable_1):\n",
    "    df = main_df.dropna(subset = [variable_1], how = 'all')\n",
    "    adj_df = df[variable_1]\n",
    "    def freedman_diaconis(vals):\n",
    "        return 2 * (iqr(vals) / (len(vals) ** (1./3)))\n",
    "    bin_width = freedman_diaconis(adj_df)\n",
    "    num_bins = int((np.max(adj_df) + bin_width) / bin_width)\n",
    "    var_1_bins = np.zeros((num_bins + 1, 1))\n",
    "    var_1_lim = 0\n",
    "    for i in range(num_bins+1):\n",
    "        var_1_bins[i] = var_1_lim\n",
    "        var_1_lim = np.floor(var_1_lim + bin_width)\n",
    "    return bin_width, num_bins, var_1_bins\n",
    "\n",
    "\n",
    "\n",
    "def avg_imputing(main_df, variable_1, variable_2, var_1_bins, num_bins):\n",
    "    var_2_avg = np.zeros((num_bins-1,1))\n",
    "    df = main_df.dropna(subset = [variable_1], how = 'all')\n",
    "    for i in  range(num_bins-1):\n",
    "        temp_df = df[(df[variable_1] > var_1_bins[i,:][0]) & (df[variable_1] <= var_1_bins[i+1,:][0])] \n",
    "        var_2_avg[i] = temp_df[variable_2].mean()\n",
    "    \n",
    "    for entry in range(len(main_df)):\n",
    "        if math.isnan(main_df[variable_2][entry]) == True and math.isnan(main_df[variable_1][entry]) == False:\n",
    "            for i in range(len(var_1_bins)-2):\n",
    "                if main_df[variable_1][entry] > var_1_bins[i] and main_df[variable_1][entry] <= var_1_bins[i+1]:\n",
    "                    main_df[variable_2][entry] = var_2_avg[i]\n",
    "    return main_df\n",
    "    \n",
    "\n",
    "bin_width_age, num_bins_age, age_bins = FD_binning(main_disease_df, 'age')\n",
    "main_disease_df = avg_imputing(main_disease_df, 'age', 'bp', age_bins, num_bins_age)\n",
    "\n",
    "print('The number of NaN values in the column \\'bp\\' is {}'.format(main_disease_df.bp.isna().sum()))\n"
   ]
  },
  {
   "cell_type": "markdown",
   "metadata": {},
   "source": [
    "A similar method can be used to imputing the values under the age column. As we can assign the age based on the average blood pressure of the person.\n"
   ]
  },
  {
   "cell_type": "code",
   "execution_count": 261,
   "metadata": {},
   "outputs": [
    {
     "name": "stdout",
     "output_type": "stream",
     "text": [
      "The number of NaN values in the column 'age' is 0\n"
     ]
    }
   ],
   "source": [
    "bin_width_bp, num_bins_bp, bp_bins = FD_binning(main_disease_df, 'bp')\n",
    "main_disease_df = avg_imputing(main_disease_df, 'bp', 'age', bp_bins, num_bins_bp)\n",
    "print('The number of NaN values in the column \\'age\\' is {}'.format(main_disease_df.age.isna().sum()))"
   ]
  },
  {
   "cell_type": "markdown",
   "metadata": {},
   "source": [
    "Since blood pressure is used in estimating specific gravity. We can applying a similar method of imputation as used in the previous section to obtain the NaN values of some patients"
   ]
  },
  {
   "cell_type": "code",
   "execution_count": 262,
   "metadata": {},
   "outputs": [
    {
     "name": "stdout",
     "output_type": "stream",
     "text": [
      "The number of NaN values in the column 'sg' is 3\n"
     ]
    }
   ],
   "source": [
    "bin_width_bp, num_bins_bp, bp_bins = FD_binning(main_disease_df, 'bp')\n",
    "main_disease_df = avg_imputing(main_disease_df, 'bp', 'sg', bp_bins, num_bins_bp)\n",
    "print('The number of NaN values in the column \\'sg\\' is {}'.format(main_disease_df.sg.isna().sum()))\n"
   ]
  },
  {
   "cell_type": "markdown",
   "metadata": {},
   "source": [
    "## #4b\n",
    "Another imputation that can be done is on the columns 'pc' and 'pcc'. Since 'pcc' is pus cell clumps. Something that can be noted would be ratio of between the number of patients who are abnormal under 'pc', yet have 'pcc' as notpresent. The percentages will be taken for this to better understand the"
   ]
  },
  {
   "cell_type": "code",
   "execution_count": 263,
   "metadata": {},
   "outputs": [
    {
     "name": "stdout",
     "output_type": "stream",
     "text": [
      "The number of patients who have 'abnormal' pc and 'notpresent' pcc: 43.\n",
      "The number of patients who have 'abnormal' pc and 'present' pcc: 33.\n",
      "The number of patients who have 'normal' pc and 'notpresent' pcc: 248.\n",
      "The number of patients who have 'normal' pc and 'present' pcc: 8.\n"
     ]
    }
   ],
   "source": [
    "print('The number of patients who have \\'abnormal\\' pc and \\'notpresent\\' pcc: {}.'.format(len(main_disease_df[(main_disease_df.pcc == 'notpresent') & (main_disease_df.pc == 'abnormal')])))\n",
    "print('The number of patients who have \\'abnormal\\' pc and \\'present\\' pcc: {}.'.format(len(main_disease_df[(main_disease_df.pcc == 'present') & (main_disease_df.pc == 'abnormal')])))\n",
    "print('The number of patients who have \\'normal\\' pc and \\'notpresent\\' pcc: {}.'.format(len(main_disease_df[(main_disease_df.pcc == 'notpresent') & (main_disease_df.pc == 'normal')])))\n",
    "print('The number of patients who have \\'normal\\' pc and \\'present\\' pcc: {}.'.format(len(main_disease_df[(main_disease_df.pcc == 'present') & (main_disease_df.pc == 'normal')])))\n"
   ]
  },
  {
   "cell_type": "markdown",
   "metadata": {},
   "source": [
    "As seen from the data, we can assume that if a person has 'normal' pc then they will more likely to be 'notpresent' under pcc (about 98%). On the other hand, almost 43.5% (43.34%) of the 'abnormal' pc group has a chance of having pcc as 'present'. To imputate the data , we can assume that any missing values that have 'normal' under pc can be considered as 'notpresent' for pcc. For the 'abnormal' group, since over 50% would have pcc as 'present'. It may be assumed that the presenece of pcc is true for the 'abnormal' group. This is can also be applied the other way where the pcc can indicate the whether a person may or may not have a normal pc. First, we will be transforming the data into binary data where 1 is abnormal and 0 is normal while 1 is present and 0 is notpresent. "
   ]
  },
  {
   "cell_type": "code",
   "execution_count": 264,
   "metadata": {},
   "outputs": [
    {
     "data": {
      "text/html": [
       "<div>\n",
       "<style scoped>\n",
       "    .dataframe tbody tr th:only-of-type {\n",
       "        vertical-align: middle;\n",
       "    }\n",
       "\n",
       "    .dataframe tbody tr th {\n",
       "        vertical-align: top;\n",
       "    }\n",
       "\n",
       "    .dataframe thead th {\n",
       "        text-align: right;\n",
       "    }\n",
       "</style>\n",
       "<table border=\"1\" class=\"dataframe\">\n",
       "  <thead>\n",
       "    <tr style=\"text-align: right;\">\n",
       "      <th></th>\n",
       "      <th>id</th>\n",
       "      <th>age</th>\n",
       "      <th>bp</th>\n",
       "      <th>sg</th>\n",
       "      <th>al</th>\n",
       "      <th>su</th>\n",
       "      <th>rbc</th>\n",
       "      <th>pc</th>\n",
       "      <th>pcc</th>\n",
       "      <th>ba</th>\n",
       "      <th>...</th>\n",
       "      <th>rc</th>\n",
       "      <th>htn</th>\n",
       "      <th>dm</th>\n",
       "      <th>cad</th>\n",
       "      <th>appet</th>\n",
       "      <th>pe</th>\n",
       "      <th>ane</th>\n",
       "      <th>classification</th>\n",
       "      <th>bi_pc</th>\n",
       "      <th>bi_pcc</th>\n",
       "    </tr>\n",
       "  </thead>\n",
       "  <tbody>\n",
       "    <tr>\n",
       "      <th>0</th>\n",
       "      <td>0</td>\n",
       "      <td>48.0</td>\n",
       "      <td>80.0</td>\n",
       "      <td>1.020</td>\n",
       "      <td>1.0</td>\n",
       "      <td>0.0</td>\n",
       "      <td>NaN</td>\n",
       "      <td>normal</td>\n",
       "      <td>notpresent</td>\n",
       "      <td>notpresent</td>\n",
       "      <td>...</td>\n",
       "      <td>5.2</td>\n",
       "      <td>yes</td>\n",
       "      <td>yes</td>\n",
       "      <td>no</td>\n",
       "      <td>good</td>\n",
       "      <td>no</td>\n",
       "      <td>no</td>\n",
       "      <td>ckd</td>\n",
       "      <td>0.0</td>\n",
       "      <td>0.0</td>\n",
       "    </tr>\n",
       "    <tr>\n",
       "      <th>1</th>\n",
       "      <td>1</td>\n",
       "      <td>7.0</td>\n",
       "      <td>50.0</td>\n",
       "      <td>1.020</td>\n",
       "      <td>4.0</td>\n",
       "      <td>0.0</td>\n",
       "      <td>NaN</td>\n",
       "      <td>normal</td>\n",
       "      <td>notpresent</td>\n",
       "      <td>notpresent</td>\n",
       "      <td>...</td>\n",
       "      <td>NaN</td>\n",
       "      <td>no</td>\n",
       "      <td>no</td>\n",
       "      <td>no</td>\n",
       "      <td>good</td>\n",
       "      <td>no</td>\n",
       "      <td>no</td>\n",
       "      <td>ckd</td>\n",
       "      <td>0.0</td>\n",
       "      <td>0.0</td>\n",
       "    </tr>\n",
       "    <tr>\n",
       "      <th>2</th>\n",
       "      <td>2</td>\n",
       "      <td>62.0</td>\n",
       "      <td>80.0</td>\n",
       "      <td>1.010</td>\n",
       "      <td>2.0</td>\n",
       "      <td>3.0</td>\n",
       "      <td>normal</td>\n",
       "      <td>normal</td>\n",
       "      <td>notpresent</td>\n",
       "      <td>notpresent</td>\n",
       "      <td>...</td>\n",
       "      <td>NaN</td>\n",
       "      <td>no</td>\n",
       "      <td>yes</td>\n",
       "      <td>no</td>\n",
       "      <td>poor</td>\n",
       "      <td>no</td>\n",
       "      <td>yes</td>\n",
       "      <td>ckd</td>\n",
       "      <td>0.0</td>\n",
       "      <td>0.0</td>\n",
       "    </tr>\n",
       "    <tr>\n",
       "      <th>3</th>\n",
       "      <td>3</td>\n",
       "      <td>48.0</td>\n",
       "      <td>70.0</td>\n",
       "      <td>1.005</td>\n",
       "      <td>4.0</td>\n",
       "      <td>0.0</td>\n",
       "      <td>normal</td>\n",
       "      <td>abnormal</td>\n",
       "      <td>present</td>\n",
       "      <td>notpresent</td>\n",
       "      <td>...</td>\n",
       "      <td>3.9</td>\n",
       "      <td>yes</td>\n",
       "      <td>no</td>\n",
       "      <td>no</td>\n",
       "      <td>poor</td>\n",
       "      <td>yes</td>\n",
       "      <td>yes</td>\n",
       "      <td>ckd</td>\n",
       "      <td>1.0</td>\n",
       "      <td>1.0</td>\n",
       "    </tr>\n",
       "    <tr>\n",
       "      <th>4</th>\n",
       "      <td>4</td>\n",
       "      <td>51.0</td>\n",
       "      <td>80.0</td>\n",
       "      <td>1.010</td>\n",
       "      <td>2.0</td>\n",
       "      <td>0.0</td>\n",
       "      <td>normal</td>\n",
       "      <td>normal</td>\n",
       "      <td>notpresent</td>\n",
       "      <td>notpresent</td>\n",
       "      <td>...</td>\n",
       "      <td>4.6</td>\n",
       "      <td>no</td>\n",
       "      <td>no</td>\n",
       "      <td>no</td>\n",
       "      <td>good</td>\n",
       "      <td>no</td>\n",
       "      <td>no</td>\n",
       "      <td>ckd</td>\n",
       "      <td>0.0</td>\n",
       "      <td>0.0</td>\n",
       "    </tr>\n",
       "    <tr>\n",
       "      <th>...</th>\n",
       "      <td>...</td>\n",
       "      <td>...</td>\n",
       "      <td>...</td>\n",
       "      <td>...</td>\n",
       "      <td>...</td>\n",
       "      <td>...</td>\n",
       "      <td>...</td>\n",
       "      <td>...</td>\n",
       "      <td>...</td>\n",
       "      <td>...</td>\n",
       "      <td>...</td>\n",
       "      <td>...</td>\n",
       "      <td>...</td>\n",
       "      <td>...</td>\n",
       "      <td>...</td>\n",
       "      <td>...</td>\n",
       "      <td>...</td>\n",
       "      <td>...</td>\n",
       "      <td>...</td>\n",
       "      <td>...</td>\n",
       "      <td>...</td>\n",
       "    </tr>\n",
       "    <tr>\n",
       "      <th>395</th>\n",
       "      <td>395</td>\n",
       "      <td>55.0</td>\n",
       "      <td>80.0</td>\n",
       "      <td>1.020</td>\n",
       "      <td>0.0</td>\n",
       "      <td>0.0</td>\n",
       "      <td>normal</td>\n",
       "      <td>normal</td>\n",
       "      <td>notpresent</td>\n",
       "      <td>notpresent</td>\n",
       "      <td>...</td>\n",
       "      <td>4.9</td>\n",
       "      <td>no</td>\n",
       "      <td>no</td>\n",
       "      <td>no</td>\n",
       "      <td>good</td>\n",
       "      <td>no</td>\n",
       "      <td>no</td>\n",
       "      <td>notckd</td>\n",
       "      <td>0.0</td>\n",
       "      <td>0.0</td>\n",
       "    </tr>\n",
       "    <tr>\n",
       "      <th>396</th>\n",
       "      <td>396</td>\n",
       "      <td>42.0</td>\n",
       "      <td>70.0</td>\n",
       "      <td>1.025</td>\n",
       "      <td>0.0</td>\n",
       "      <td>0.0</td>\n",
       "      <td>normal</td>\n",
       "      <td>normal</td>\n",
       "      <td>notpresent</td>\n",
       "      <td>notpresent</td>\n",
       "      <td>...</td>\n",
       "      <td>6.2</td>\n",
       "      <td>no</td>\n",
       "      <td>no</td>\n",
       "      <td>no</td>\n",
       "      <td>good</td>\n",
       "      <td>no</td>\n",
       "      <td>no</td>\n",
       "      <td>notckd</td>\n",
       "      <td>0.0</td>\n",
       "      <td>0.0</td>\n",
       "    </tr>\n",
       "    <tr>\n",
       "      <th>397</th>\n",
       "      <td>397</td>\n",
       "      <td>12.0</td>\n",
       "      <td>80.0</td>\n",
       "      <td>1.020</td>\n",
       "      <td>0.0</td>\n",
       "      <td>0.0</td>\n",
       "      <td>normal</td>\n",
       "      <td>normal</td>\n",
       "      <td>notpresent</td>\n",
       "      <td>notpresent</td>\n",
       "      <td>...</td>\n",
       "      <td>5.4</td>\n",
       "      <td>no</td>\n",
       "      <td>no</td>\n",
       "      <td>no</td>\n",
       "      <td>good</td>\n",
       "      <td>no</td>\n",
       "      <td>no</td>\n",
       "      <td>notckd</td>\n",
       "      <td>0.0</td>\n",
       "      <td>0.0</td>\n",
       "    </tr>\n",
       "    <tr>\n",
       "      <th>398</th>\n",
       "      <td>398</td>\n",
       "      <td>17.0</td>\n",
       "      <td>60.0</td>\n",
       "      <td>1.025</td>\n",
       "      <td>0.0</td>\n",
       "      <td>0.0</td>\n",
       "      <td>normal</td>\n",
       "      <td>normal</td>\n",
       "      <td>notpresent</td>\n",
       "      <td>notpresent</td>\n",
       "      <td>...</td>\n",
       "      <td>5.9</td>\n",
       "      <td>no</td>\n",
       "      <td>no</td>\n",
       "      <td>no</td>\n",
       "      <td>good</td>\n",
       "      <td>no</td>\n",
       "      <td>no</td>\n",
       "      <td>notckd</td>\n",
       "      <td>0.0</td>\n",
       "      <td>0.0</td>\n",
       "    </tr>\n",
       "    <tr>\n",
       "      <th>399</th>\n",
       "      <td>399</td>\n",
       "      <td>58.0</td>\n",
       "      <td>80.0</td>\n",
       "      <td>1.025</td>\n",
       "      <td>0.0</td>\n",
       "      <td>0.0</td>\n",
       "      <td>normal</td>\n",
       "      <td>normal</td>\n",
       "      <td>notpresent</td>\n",
       "      <td>notpresent</td>\n",
       "      <td>...</td>\n",
       "      <td>6.1</td>\n",
       "      <td>no</td>\n",
       "      <td>no</td>\n",
       "      <td>no</td>\n",
       "      <td>good</td>\n",
       "      <td>no</td>\n",
       "      <td>no</td>\n",
       "      <td>notckd</td>\n",
       "      <td>0.0</td>\n",
       "      <td>0.0</td>\n",
       "    </tr>\n",
       "  </tbody>\n",
       "</table>\n",
       "<p>400 rows × 28 columns</p>\n",
       "</div>"
      ],
      "text/plain": [
       "      id   age    bp     sg   al   su     rbc        pc         pcc  \\\n",
       "0      0  48.0  80.0  1.020  1.0  0.0     NaN    normal  notpresent   \n",
       "1      1   7.0  50.0  1.020  4.0  0.0     NaN    normal  notpresent   \n",
       "2      2  62.0  80.0  1.010  2.0  3.0  normal    normal  notpresent   \n",
       "3      3  48.0  70.0  1.005  4.0  0.0  normal  abnormal     present   \n",
       "4      4  51.0  80.0  1.010  2.0  0.0  normal    normal  notpresent   \n",
       "..   ...   ...   ...    ...  ...  ...     ...       ...         ...   \n",
       "395  395  55.0  80.0  1.020  0.0  0.0  normal    normal  notpresent   \n",
       "396  396  42.0  70.0  1.025  0.0  0.0  normal    normal  notpresent   \n",
       "397  397  12.0  80.0  1.020  0.0  0.0  normal    normal  notpresent   \n",
       "398  398  17.0  60.0  1.025  0.0  0.0  normal    normal  notpresent   \n",
       "399  399  58.0  80.0  1.025  0.0  0.0  normal    normal  notpresent   \n",
       "\n",
       "             ba  ...   rc  htn   dm  cad  appet   pe  ane classification  \\\n",
       "0    notpresent  ...  5.2  yes  yes   no   good   no   no            ckd   \n",
       "1    notpresent  ...  NaN   no   no   no   good   no   no            ckd   \n",
       "2    notpresent  ...  NaN   no  yes   no   poor   no  yes            ckd   \n",
       "3    notpresent  ...  3.9  yes   no   no   poor  yes  yes            ckd   \n",
       "4    notpresent  ...  4.6   no   no   no   good   no   no            ckd   \n",
       "..          ...  ...  ...  ...  ...  ...    ...  ...  ...            ...   \n",
       "395  notpresent  ...  4.9   no   no   no   good   no   no         notckd   \n",
       "396  notpresent  ...  6.2   no   no   no   good   no   no         notckd   \n",
       "397  notpresent  ...  5.4   no   no   no   good   no   no         notckd   \n",
       "398  notpresent  ...  5.9   no   no   no   good   no   no         notckd   \n",
       "399  notpresent  ...  6.1   no   no   no   good   no   no         notckd   \n",
       "\n",
       "    bi_pc bi_pcc  \n",
       "0     0.0    0.0  \n",
       "1     0.0    0.0  \n",
       "2     0.0    0.0  \n",
       "3     1.0    1.0  \n",
       "4     0.0    0.0  \n",
       "..    ...    ...  \n",
       "395   0.0    0.0  \n",
       "396   0.0    0.0  \n",
       "397   0.0    0.0  \n",
       "398   0.0    0.0  \n",
       "399   0.0    0.0  \n",
       "\n",
       "[400 rows x 28 columns]"
      ]
     },
     "execution_count": 264,
     "metadata": {},
     "output_type": "execute_result"
    }
   ],
   "source": [
    "bi_array = np.zeros((len(main_disease_df),2))\n",
    "for entry in range(len(main_disease_df)):\n",
    "    if main_disease_df.pc[entry] == 'normal':\n",
    "        bi_array[entry,0] = 0\n",
    "    elif main_disease_df.pc[entry] == 'abnormal':\n",
    "        bi_array[entry,0] = 1\n",
    "    else:\n",
    "        bi_array[entry,0] = np.nan\n",
    "    if main_disease_df.pcc[entry] == 'present':\n",
    "        bi_array[entry,1] = 1\n",
    "    elif main_disease_df.pcc[entry] == 'notpresent':\n",
    "        bi_array[entry,1] = 0\n",
    "    else:\n",
    "        bi_array[entry,1] =  np.nan\n",
    "\n",
    "bi_df = pd.DataFrame(bi_array, columns = ['bi_pc','bi_pcc'])\n",
    "main_disease_df = pd.merge(main_disease_df,bi_df, left_index = True, right_index = True)\n",
    "main_disease_df\n",
    "\n"
   ]
  },
  {
   "cell_type": "code",
   "execution_count": 265,
   "metadata": {},
   "outputs": [],
   "source": [
    "for entry in range(len(main_disease_df)):\n",
    "    if main_disease_df.bi_pc[entry] == 0 and  math.isnan(main_disease_df.bi_pcc[entry]) == True:\n",
    "        main_disease_df.bi_pcc[entry] = 0\n",
    "    elif main_disease_df.bi_pc[entry] == 1 and math.isnan(main_disease_df.bi_pcc[entry]) == True:\n",
    "        main_disease_df.bi_pcc[entry] = 1\n",
    "        \n",
    "for entry in range(len(main_disease_df)):\n",
    "    if main_disease_df.bi_pcc[entry] == 0 and math.isnan(main_disease_df.bi_pc[entry]) == True:\n",
    "        main_disease_df.bi_pc[entry] = 0\n",
    "    elif main_disease_df.bi_pcc[entry] == 1 and math.isnan(main_disease_df.bi_pc[entry]) == True:\n",
    "        main_disease_df.bi_pc[entry] = 1\n"
   ]
  },
  {
   "cell_type": "code",
   "execution_count": 266,
   "metadata": {},
   "outputs": [
    {
     "name": "stdout",
     "output_type": "stream",
     "text": [
      "The number of NaN values in the column 'bi_pc': 1.\n",
      "The number of NaN values in the column 'bi_pcc': 1.\n"
     ]
    },
    {
     "data": {
      "text/html": [
       "<div>\n",
       "<style scoped>\n",
       "    .dataframe tbody tr th:only-of-type {\n",
       "        vertical-align: middle;\n",
       "    }\n",
       "\n",
       "    .dataframe tbody tr th {\n",
       "        vertical-align: top;\n",
       "    }\n",
       "\n",
       "    .dataframe thead th {\n",
       "        text-align: right;\n",
       "    }\n",
       "</style>\n",
       "<table border=\"1\" class=\"dataframe\">\n",
       "  <thead>\n",
       "    <tr style=\"text-align: right;\">\n",
       "      <th></th>\n",
       "      <th>id</th>\n",
       "      <th>age</th>\n",
       "      <th>bp</th>\n",
       "      <th>sg</th>\n",
       "      <th>al</th>\n",
       "      <th>su</th>\n",
       "      <th>rbc</th>\n",
       "      <th>pc</th>\n",
       "      <th>pcc</th>\n",
       "      <th>ba</th>\n",
       "      <th>...</th>\n",
       "      <th>rc</th>\n",
       "      <th>htn</th>\n",
       "      <th>dm</th>\n",
       "      <th>cad</th>\n",
       "      <th>appet</th>\n",
       "      <th>pe</th>\n",
       "      <th>ane</th>\n",
       "      <th>classification</th>\n",
       "      <th>bi_pc</th>\n",
       "      <th>bi_pcc</th>\n",
       "    </tr>\n",
       "  </thead>\n",
       "  <tbody>\n",
       "    <tr>\n",
       "      <th>290</th>\n",
       "      <td>290</td>\n",
       "      <td>54.0</td>\n",
       "      <td>70.0</td>\n",
       "      <td>1.02</td>\n",
       "      <td>0.0</td>\n",
       "      <td>0.0</td>\n",
       "      <td>NaN</td>\n",
       "      <td>NaN</td>\n",
       "      <td>NaN</td>\n",
       "      <td>NaN</td>\n",
       "      <td>...</td>\n",
       "      <td>5.9</td>\n",
       "      <td>no</td>\n",
       "      <td>no</td>\n",
       "      <td>no</td>\n",
       "      <td>good</td>\n",
       "      <td>no</td>\n",
       "      <td>no</td>\n",
       "      <td>notckd</td>\n",
       "      <td>NaN</td>\n",
       "      <td>NaN</td>\n",
       "    </tr>\n",
       "  </tbody>\n",
       "</table>\n",
       "<p>1 rows × 28 columns</p>\n",
       "</div>"
      ],
      "text/plain": [
       "      id   age    bp    sg   al   su  rbc   pc  pcc   ba  ...   rc  htn  dm  \\\n",
       "290  290  54.0  70.0  1.02  0.0  0.0  NaN  NaN  NaN  NaN  ...  5.9   no  no   \n",
       "\n",
       "     cad  appet  pe ane classification bi_pc bi_pcc  \n",
       "290   no   good  no  no         notckd   NaN    NaN  \n",
       "\n",
       "[1 rows x 28 columns]"
      ]
     },
     "execution_count": 266,
     "metadata": {},
     "output_type": "execute_result"
    }
   ],
   "source": [
    "print('The number of NaN values in the column \\'bi_pc\\': {}.' .format(main_disease_df.bi_pcc.isna().sum()))\n",
    "print('The number of NaN values in the column \\'bi_pcc\\': {}.' .format(main_disease_df.bi_pcc.isna().sum()))\n",
    "\n",
    "main_disease_df[main_disease_df.bi_pcc.isna()]"
   ]
  },
  {
   "cell_type": "markdown",
   "metadata": {},
   "source": [
    "# #4c\n",
    "Another imputation that can be done is on the bacteria column, 'ba'. Given that only 1% of the data is missing applying the central tendency of the mode would be useful. "
   ]
  },
  {
   "cell_type": "code",
   "execution_count": 267,
   "metadata": {},
   "outputs": [
    {
     "name": "stdout",
     "output_type": "stream",
     "text": [
      "The number of NaN values in the column 'ba': 4.\n",
      "ba\n",
      "notpresent    374\n",
      "present        22\n",
      "Name: ba, dtype: int64\n",
      "The number of NaN values in the column 'ba' after imputation: 0.\n"
     ]
    }
   ],
   "source": [
    "print('The number of NaN values in the column \\'ba\\': {}.'.format(main_disease_df.ba.isna().sum()))\n",
    "\n",
    "print(main_disease_df.ba.groupby(main_disease_df.ba).count())\n",
    "main_disease_df.ba.fillna('notpresent', inplace = True)\n",
    "print('The number of NaN values in the column \\'ba\\' after imputation: {}.'.format(main_disease_df.ba.isna().sum()))"
   ]
  },
  {
   "cell_type": "markdown",
   "metadata": {},
   "source": [
    "Similarly, the same imputation method can also be applied on the 'al' column as it can be noticed that majority of the data gravitates to one value with some outliers as seen below."
   ]
  },
  {
   "cell_type": "code",
   "execution_count": 268,
   "metadata": {},
   "outputs": [
    {
     "name": "stdout",
     "output_type": "stream",
     "text": [
      "The number of NaN values in the column 'al': 46.\n",
      "al\n",
      "0.0    199\n",
      "1.0     44\n",
      "2.0     43\n",
      "3.0     43\n",
      "4.0     24\n",
      "5.0      1\n",
      "Name: al, dtype: int64\n",
      "The number of NaN values in the column 'al' after imputation: 0.\n"
     ]
    }
   ],
   "source": [
    "print('The number of NaN values in the column \\'al\\': {}.'.format(main_disease_df.al.isna().sum()))\n",
    "\n",
    "print(main_disease_df.al.groupby(main_disease_df.al).count())\n",
    "main_disease_df.al.fillna(0.0, inplace = True)\n",
    "print('The number of NaN values in the column \\'al\\' after imputation: {}.'.format(main_disease_df.al.isna().sum()))"
   ]
  },
  {
   "cell_type": "markdown",
   "metadata": {},
   "source": [
    "## #4d\n",
    "Another method of impuation is similar with the pc and pcc entry. The data used will be the 'dm' and 'su'. By grouping the sugar column by categorizing them on whether they are diabetic or not then taking the average will help impute missing data. It is also noted that the 'dm' column has misplaced data and cleaning the data will help readjust the data."
   ]
  },
  {
   "cell_type": "code",
   "execution_count": 269,
   "metadata": {},
   "outputs": [
    {
     "name": "stdout",
     "output_type": "stream",
     "text": [
      "dm\n",
      "no     0.077551\n",
      "yes    1.336538\n",
      "Name: su, dtype: float64\n",
      "The number of NaN values under the column 'su' after imputation: 49.\n"
     ]
    }
   ],
   "source": [
    "main_disease_df.dm.unique()\n",
    "main_disease_df.dm.loc[(main_disease_df.dm == '\\tno')] = 'no'\n",
    "main_disease_df.dm.loc[(main_disease_df.dm == '\\tyes')] = 'yes'\n",
    "main_disease_df.dm.loc[(main_disease_df.dm == ' yes') ] = 'yes'\n",
    "\n",
    "mu_su = main_disease_df.su.groupby(main_disease_df.dm).mean()\n",
    "print(mu_su)\n",
    "main_disease_df.su[(main_disease_df.dm == 'yes') & (main_disease_df.su == np.nan) ] = mu_su[1]\n",
    "main_disease_df.su[(main_disease_df.dm == 'no') & (main_disease_df.su == np.nan)] = mu_su[0]\n",
    "print('The number of NaN values under the column \\'su\\' after imputation: {}.' .format(main_disease_df.su.isna().sum()))\n"
   ]
  },
  {
   "cell_type": "markdown",
   "metadata": {},
   "source": [
    "## #4e \n",
    "Creating the .csv file containing the imputed dataset"
   ]
  },
  {
   "cell_type": "code",
   "execution_count": 270,
   "metadata": {},
   "outputs": [],
   "source": [
    "main_disease_df.to_csv('kidney_dataset_imputed.csv')"
   ]
  },
  {
   "cell_type": "markdown",
   "metadata": {},
   "source": [
    "# #5\n",
    "For features age, blood pressure, specific gravity, albumin and sugar, aside from\n",
    "the number of data rows available, describe the difference between\n",
    "kidney_dataset_remove vs kidney_dataset_imputed. Use existing tools to\n",
    "demonstrate how the shape or distribution of the data was affected in relation to\n",
    "its classification (ckd or notckd)\n",
    "\n",
    "\n",
    "b) In the imputation technique/s you used, why do you think the technique was\n",
    "appropriate for the given features?"
   ]
  },
  {
   "cell_type": "code",
   "execution_count": 271,
   "metadata": {},
   "outputs": [],
   "source": [
    "import seaborn as sns\n",
    "import matplotlib.pyplot as plt\n",
    "import plotly.express as px"
   ]
  },
  {
   "cell_type": "markdown",
   "metadata": {},
   "source": [
    "## Data Visualizations on the Dataset where NaN Values are Removed"
   ]
  },
  {
   "cell_type": "code",
   "execution_count": 272,
   "metadata": {},
   "outputs": [
    {
     "data": {
      "image/png": "[encoded data removed]",
      "text/plain": [
       "<Figure size 432x288 with 1 Axes>"
      ]
     },
     "metadata": {
      "needs_background": "light"
     },
     "output_type": "display_data"
    },
    {
     "data": {
      "image/png": "[encoded data removed]",
      "text/plain": [
       "<Figure size 432x288 with 1 Axes>"
      ]
     },
     "metadata": {
      "needs_background": "light"
     },
     "output_type": "display_data"
    },
    {
     "data": {
      "image/png": "[encoded data removed]",
      "text/plain": [
       "<Figure size 432x288 with 1 Axes>"
      ]
     },
     "metadata": {
      "needs_background": "light"
     },
     "output_type": "display_data"
    },
    {
     "data": {
      "image/png": "[encoded data removed]",
      "text/plain": [
       "<Figure size 432x288 with 1 Axes>"
      ]
     },
     "metadata": {
      "needs_background": "light"
     },
     "output_type": "display_data"
    },
    {
     "data": {
      "image/png": "[encoded data removed]",
      "text/plain": [
       "<Figure size 432x288 with 1 Axes>"
      ]
     },
     "metadata": {
      "needs_background": "light"
     },
     "output_type": "display_data"
    }
   ],
   "source": [
    "main_rv_ckd = main_df_rv[main_df_rv.classification == 'ckd']\n",
    "main_rv_notckd = main_df_rv[main_df_rv.classification == 'notckd']\n",
    "\n",
    "\n",
    "for i in range(len(main_df_rv.columns)-1):\n",
    "    if i == 4:\n",
    "        bins = [0, 1, 2, 3, 4, 5, 6]\n",
    "\n",
    "    else:\n",
    "        bin_width = freedman_diaconis(main_df_rv.iloc[:,i].values)\n",
    "        num_bins = int((np.amax(main_df_rv.iloc[:,i].values) + bin_width) / bin_width)\n",
    "        bins = np.linspace(0, np.amax(main_df_rv.iloc[:,i]) + bin_width, num_bins)\n",
    "    plt.hist(main_rv_ckd.iloc[:,i].values, bins, alpha=0.5, label='ckd')\n",
    "    plt.hist(main_rv_notckd.iloc[:,i].values, bins, alpha=0.5, label='notckd')\n",
    "    plt.title(main_df_rv.columns[i])\n",
    "    plt.legend(loc='upper right')\n",
    "    plt.show()\n",
    "        \n",
    "        "
   ]
  },
  {
   "cell_type": "code",
   "execution_count": 273,
   "metadata": {},
   "outputs": [
    {
     "data": {
      "text/plain": [
       "<AxesSubplot:>"
      ]
     },
     "execution_count": 273,
     "metadata": {},
     "output_type": "execute_result"
    },
    {
     "data": {
      "image/png": "[encoded data removed]",
      "text/plain": [
       "<Figure size 432x288 with 1 Axes>"
      ]
     },
     "metadata": {
      "needs_background": "light"
     },
     "output_type": "display_data"
    }
   ],
   "source": [
    "pd.plotting.parallel_coordinates(main_df_rv, 'classification')"
   ]
  },
  {
   "cell_type": "code",
   "execution_count": 274,
   "metadata": {},
   "outputs": [
    {
     "data": {
      "image/png": "[encoded data removed]",
      "text/plain": [
       "<Figure size 1152x432 with 2 Axes>"
      ]
     },
     "metadata": {
      "needs_background": "light"
     },
     "output_type": "display_data"
    }
   ],
   "source": [
    "temp_rv = main_df_rv.drop(['classification'], axis=1)\n",
    "corr_rv = temp_rv.corr()\n",
    "plt.figure(figsize=(16, 6))\n",
    "\n",
    "heatmap = sns.heatmap(corr_rv, vmin=-1, vmax=1, annot=True)"
   ]
  },
  {
   "cell_type": "markdown",
   "metadata": {},
   "source": [
    "## Data Visualizations on the Dataset where NaN Values are Removed\n",
    "Note: An some data values were also dropped specifically those in the 'al' columns as classifying it by age, blood pressure, or not classifying it at all may skew the data as I am not sure what factors affect the 'al' column."
   ]
  },
  {
   "cell_type": "code",
   "execution_count": 275,
   "metadata": {},
   "outputs": [
    {
     "data": {
      "image/png": "[encoded data removed]",
      "text/plain": [
       "<Figure size 432x288 with 1 Axes>"
      ]
     },
     "metadata": {
      "needs_background": "light"
     },
     "output_type": "display_data"
    },
    {
     "data": {
      "image/png": "[encoded data removed]",
      "text/plain": [
       "<Figure size 432x288 with 1 Axes>"
      ]
     },
     "metadata": {
      "needs_background": "light"
     },
     "output_type": "display_data"
    },
    {
     "data": {
      "image/png": "[encoded data removed]",
      "text/plain": [
       "<Figure size 432x288 with 1 Axes>"
      ]
     },
     "metadata": {
      "needs_background": "light"
     },
     "output_type": "display_data"
    },
    {
     "data": {
      "image/png": "[encoded data removed]",
      "text/plain": [
       "<Figure size 432x288 with 1 Axes>"
      ]
     },
     "metadata": {
      "needs_background": "light"
     },
     "output_type": "display_data"
    },
    {
     "data": {
      "image/png": "[encoded data removed]",
      "text/plain": [
       "<Figure size 432x288 with 1 Axes>"
      ]
     },
     "metadata": {
      "needs_background": "light"
     },
     "output_type": "display_data"
    }
   ],
   "source": [
    "main_disease_imp = main_disease_df.iloc[:,[1,2,3,4,5,25]].dropna()\n",
    "\n",
    "main_disease_ckd = main_disease_imp[main_disease_imp.classification == 'ckd']\n",
    "main_disease_notckd = main_disease_imp[main_disease_imp.classification == 'notckd']\n",
    "\n",
    "\n",
    "for i in range(len(main_disease_ckd.columns)-1):\n",
    "    if i == 4:\n",
    "        bins = [0, 1, 2, 3, 4, 5, 6]\n",
    "\n",
    "    else:\n",
    "        bin_width = freedman_diaconis(main_disease_imp.iloc[:,i].values)\n",
    "        num_bins = int((np.amax(main_disease_imp.iloc[:,i].values) + bin_width) / bin_width)\n",
    "        bins = np.linspace(0, np.amax(main_disease_imp.iloc[:,i]) + bin_width, num_bins)\n",
    "    plt.hist(main_disease_ckd.iloc[:,i].values, bins, alpha=0.5, label='ckd')\n",
    "    plt.hist(main_disease_notckd.iloc[:,i].values, bins, alpha=0.5, label='notckd')\n",
    "    plt.title(main_disease_ckd.columns[i])\n",
    "    plt.legend(loc='upper right')\n",
    "    plt.show()\n",
    "        \n",
    "        "
   ]
  },
  {
   "cell_type": "code",
   "execution_count": 276,
   "metadata": {},
   "outputs": [
    {
     "data": {
      "text/plain": [
       "<AxesSubplot:>"
      ]
     },
     "execution_count": 276,
     "metadata": {},
     "output_type": "execute_result"
    },
    {
     "data": {
      "image/png": "[encoded data removed]",
      "text/plain": [
       "<Figure size 432x288 with 1 Axes>"
      ]
     },
     "metadata": {
      "needs_background": "light"
     },
     "output_type": "display_data"
    }
   ],
   "source": [
    "pd.plotting.parallel_coordinates(main_disease_imp, 'classification')"
   ]
  },
  {
   "cell_type": "code",
   "execution_count": 277,
   "metadata": {},
   "outputs": [
    {
     "data": {
      "image/png": "[encoded data removed]",
      "text/plain": [
       "<Figure size 1152x432 with 2 Axes>"
      ]
     },
     "metadata": {
      "needs_background": "light"
     },
     "output_type": "display_data"
    }
   ],
   "source": [
    "temp_imp = main_disease_imp.drop(['classification'], axis=1)\n",
    "corr_imp = temp_imp.corr()\n",
    "plt.figure(figsize=(16, 6))\n",
    "\n",
    "heatmap = sns.heatmap(corr_imp, vmin=-1, vmax=1, annot=True)"
   ]
  },
  {
   "cell_type": "markdown",
   "metadata": {},
   "source": [
    "## #5a\n",
    "Dropping the NaN values compared to imputing these NaN values cause little no changes visually. This can be seen from the historgrams used to visualize the data except for the visualiztion of the sugar column, 'su', as taking the average of people who have diabetes was used to impute the data. Thus, showing that diabetes does not necessarily imply a high sugar level. Similarly, the parallet coordinates also show a similar visualization. However. the changes are more noticeable in the heat map containing the correlations of the data. More specifically, the correlation between the age and the blood pressure of an individual is more positively correlated at 0.24 compared to when dropping the NaN values which gives a correlation of 0.19. The correlation between age and albumin also dropped from 0.14 to 0.12 when imputing the data. To conclude, the imputation of the data might have not contributed a statistically significant change comparted to just dropping the NaN values. "
   ]
  },
  {
   "cell_type": "markdown",
   "metadata": {},
   "source": [
    "## #5b\n",
    "Out of all the imputation techniques used in the imputed dataset, I believe that the age and the blood pressure column had used proper impuation techniques. This is because the age was factored in the blood pressure of an individual. It follows that taking the average after placing the individuals in the appropriate bins will give a proper average given an individual's age since the existence of extremeties will greatly shift the data. This method was also applied to age where I assumed that age and blood pressure are factored witl one another which can be seen in the heat map. For the specific gravity, a similar technique as the previous imputation on blood pressure and age was used. However, blood pressure may not be the only factor or main factor that affect specific gravity as the data from the dropped dataset did not greatly differ from the imputed dataset. Thus, the imputation method may not be the preferred one. The albumin was dropped as an imputation method since categorizing or failing to categorize may skew the data. Lastly, the sugar imputation used a categorical grouping followed by taking the average of the given groups. The method of imputation for this feature is appropriate as the data shows that sugar level does not necessarily matter when an individual is diabetic. "
   ]
  },
  {
   "cell_type": "markdown",
   "metadata": {},
   "source": []
  }
 ],
 "metadata": {
  "interpreter": {
   "hash": "0adf18d07e9043ad5d8e417d237931ffdc4b3f2acf7c92fa89e30b7723e2b9a3"
  },
  "kernelspec": {
   "display_name": "Python 3.9.10 ('csci113')",
   "language": "python",
   "name": "python3"
  },
  "language_info": {
   "codemirror_mode": {
    "name": "ipython",
    "version": 3
   },
   "file_extension": ".py",
   "mimetype": "text/x-python",
   "name": "python",
   "nbconvert_exporter": "python",
   "pygments_lexer": "ipython3",
   "version": "3.9.10"
  },
  "orig_nbformat": 4
 },
 "nbformat": 4,
 "nbformat_minor": 2
}
