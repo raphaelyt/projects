{
 "cells": [
  {
   "cell_type": "markdown",
   "metadata": {},
   "source": [
    "# Philippine Real Estate Background and Overview"
   ]
  },
  {
   "cell_type": "markdown",
   "metadata": {},
   "source": [
    "## Short Overview of the Data Analysis\n",
    "The goal of this notebook is to use regression analysis to show what features are the most prevailant that are the main deciding factors of customers/consumers in buying real estate while also showing possible prices given the significant features that dictate the price of real estate.\n",
    "\n",
    "The data analysis will be comprised of the following:\n",
    "\n",
    "1. Data Preparation (Obtaining the dataset)\n",
    "2. Data Cleaning (Removing null values/imputing missing data values)\n",
    "3. EDA (Use of histograms/Heatmaps)\n",
    "4. Data Analysis and Modeling (Linear Regression)\n",
    "5. Prediction of the prices of the given real estate"
   ]
  },
  {
   "cell_type": "markdown",
   "metadata": {},
   "source": [
    "## Imported packages"
   ]
  },
  {
   "cell_type": "code",
   "execution_count": 4,
   "metadata": {},
   "outputs": [],
   "source": [
    "import pandas as pd #data analysis and manipulation tool\n",
    "import numpy as np #collection of mathematical functions\n",
    "import matplotlib.pyplot as plt #graphs and plots and visualizations\n",
    "import seaborn as sns #similar to matplotlib (data visualizations)\n",
    "import sklearn as skl #classification and regression tools\n",
    "import os #For the operating system of the chosen machine (Mac OS, Windows, Linux)\n",
    "from scipy.stats import iqr\n",
    "import scipy.stats \n"
   ]
  },
  {
   "cell_type": "markdown",
   "metadata": {},
   "source": [
    "# Data Preparation"
   ]
  },
  {
   "cell_type": "code",
   "execution_count": 5,
   "metadata": {},
   "outputs": [],
   "source": [
    "#Setting the directory\n",
    "os.chdir('/Users/raph/Downloads/')"
   ]
  },
  {
   "cell_type": "code",
   "execution_count": 6,
   "metadata": {},
   "outputs": [
    {
     "data": {
      "text/html": [
       "<div>\n",
       "<style scoped>\n",
       "    .dataframe tbody tr th:only-of-type {\n",
       "        vertical-align: middle;\n",
       "    }\n",
       "\n",
       "    .dataframe tbody tr th {\n",
       "        vertical-align: top;\n",
       "    }\n",
       "\n",
       "    .dataframe thead th {\n",
       "        text-align: right;\n",
       "    }\n",
       "</style>\n",
       "<table border=\"1\" class=\"dataframe\">\n",
       "  <thead>\n",
       "    <tr style=\"text-align: right;\">\n",
       "      <th></th>\n",
       "      <th>Description</th>\n",
       "      <th>Location</th>\n",
       "      <th>Price (PHP)</th>\n",
       "      <th>Bedrooms</th>\n",
       "      <th>Bath</th>\n",
       "      <th>Floor_area (sqm)</th>\n",
       "      <th>Land_area (sqm)</th>\n",
       "      <th>Latitude</th>\n",
       "      <th>Longitude</th>\n",
       "      <th>Link</th>\n",
       "    </tr>\n",
       "  </thead>\n",
       "  <tbody>\n",
       "    <tr>\n",
       "      <th>0</th>\n",
       "      <td>2-Bedroom Unit for Sale in Amisa Private Resid...</td>\n",
       "      <td>Mactan, Lapu-Lapu</td>\n",
       "      <td>15,916,180</td>\n",
       "      <td>2</td>\n",
       "      <td>2</td>\n",
       "      <td>74</td>\n",
       "      <td>na</td>\n",
       "      <td>10.3051555</td>\n",
       "      <td>124.011241</td>\n",
       "      <td>https://www.lamudi.com.ph/2-bedroom-unit-for-s...</td>\n",
       "    </tr>\n",
       "    <tr>\n",
       "      <th>1</th>\n",
       "      <td>1-Bedroom Unit for Sale in Amisa Private Resid...</td>\n",
       "      <td>Mactan, Lapu-Lapu</td>\n",
       "      <td>8,730,355</td>\n",
       "      <td>1</td>\n",
       "      <td>1</td>\n",
       "      <td>41</td>\n",
       "      <td>na</td>\n",
       "      <td>10.3051555</td>\n",
       "      <td>124.011241</td>\n",
       "      <td>https://www.lamudi.com.ph/1-bedroom-unit-for-s...</td>\n",
       "    </tr>\n",
       "    <tr>\n",
       "      <th>2</th>\n",
       "      <td>Offices at The Galleon - Prime Unit (11G) for ...</td>\n",
       "      <td>San Antonio, Pasig</td>\n",
       "      <td>27,448,000</td>\n",
       "      <td>na</td>\n",
       "      <td>na</td>\n",
       "      <td>82</td>\n",
       "      <td>na</td>\n",
       "      <td>14.588716</td>\n",
       "      <td>121.060009</td>\n",
       "      <td>https://www.lamudi.com.ph/offices-at-the-galle...</td>\n",
       "    </tr>\n",
       "    <tr>\n",
       "      <th>3</th>\n",
       "      <td>1-Bedroom Unit (821) for Sale in Maple at Verd...</td>\n",
       "      <td>Ugong, Pasig</td>\n",
       "      <td>16,011,000</td>\n",
       "      <td>1</td>\n",
       "      <td>na</td>\n",
       "      <td>58</td>\n",
       "      <td>na</td>\n",
       "      <td>14.588882</td>\n",
       "      <td>121.079016</td>\n",
       "      <td>https://www.lamudi.com.ph/1-bedroom-unit-821-f...</td>\n",
       "    </tr>\n",
       "    <tr>\n",
       "      <th>4</th>\n",
       "      <td>Alice 2 Storey Townhouse For Sale in Lancaster...</td>\n",
       "      <td>Tapia, General Trias</td>\n",
       "      <td>1,935,600</td>\n",
       "      <td>3</td>\n",
       "      <td>na</td>\n",
       "      <td>40</td>\n",
       "      <td>40</td>\n",
       "      <td>14.35507</td>\n",
       "      <td>120.876425</td>\n",
       "      <td>https://www.lamudi.com.ph/alice-2-storey-townh...</td>\n",
       "    </tr>\n",
       "  </tbody>\n",
       "</table>\n",
       "</div>"
      ],
      "text/plain": [
       "                                         Description              Location  \\\n",
       "0  2-Bedroom Unit for Sale in Amisa Private Resid...     Mactan, Lapu-Lapu   \n",
       "1  1-Bedroom Unit for Sale in Amisa Private Resid...     Mactan, Lapu-Lapu   \n",
       "2  Offices at The Galleon - Prime Unit (11G) for ...    San Antonio, Pasig   \n",
       "3  1-Bedroom Unit (821) for Sale in Maple at Verd...          Ugong, Pasig   \n",
       "4  Alice 2 Storey Townhouse For Sale in Lancaster...  Tapia, General Trias   \n",
       "\n",
       "  Price (PHP) Bedrooms Bath Floor_area (sqm) Land_area (sqm)    Latitude  \\\n",
       "0  15,916,180        2    2               74              na  10.3051555   \n",
       "1   8,730,355        1    1               41              na  10.3051555   \n",
       "2  27,448,000       na   na               82              na   14.588716   \n",
       "3  16,011,000        1   na               58              na   14.588882   \n",
       "4   1,935,600        3   na               40              40    14.35507   \n",
       "\n",
       "    Longitude                                               Link  \n",
       "0  124.011241  https://www.lamudi.com.ph/2-bedroom-unit-for-s...  \n",
       "1  124.011241  https://www.lamudi.com.ph/1-bedroom-unit-for-s...  \n",
       "2  121.060009  https://www.lamudi.com.ph/offices-at-the-galle...  \n",
       "3  121.079016  https://www.lamudi.com.ph/1-bedroom-unit-821-f...  \n",
       "4  120.876425  https://www.lamudi.com.ph/alice-2-storey-townh...  "
      ]
     },
     "execution_count": 6,
     "metadata": {},
     "output_type": "execute_result"
    }
   ],
   "source": [
    "#Importing the dataset\n",
    "real_estate = pd.read_csv('./PH_houses_v2.csv')\n",
    "real_estate.head()"
   ]
  },
  {
   "cell_type": "markdown",
   "metadata": {},
   "source": [
    "Upon first glance of the first 5 entries of the dataset, we will place less focus on the columns: description, and link. It follows that longittude and latitude are important factors however, for this case, we choose to not factor them in as well rather we will use the general area which is found in the location. We will also focus on the bedrooms, bathrooms, floor_area, and the land_area."
   ]
  },
  {
   "cell_type": "markdown",
   "metadata": {},
   "source": [
    "# Data Cleaning"
   ]
  },
  {
   "cell_type": "code",
   "execution_count": 7,
   "metadata": {},
   "outputs": [
    {
     "data": {
      "text/plain": [
       "Price (PHP)         object\n",
       "Bedrooms            object\n",
       "Bath                object\n",
       "Floor_area (sqm)    object\n",
       "Land_area (sqm)     object\n",
       "municipality        object\n",
       "city                object\n",
       "dtype: object"
      ]
     },
     "execution_count": 7,
     "metadata": {},
     "output_type": "execute_result"
    }
   ],
   "source": [
    "#Separating municipality and the city\n",
    "real_estate[['municipality', 'city']] = real_estate.Location.str.split(', ', expand=True)\n",
    "\n",
    "#Removing unwanted columns\n",
    "real_estate.drop(['Description', 'Location', 'Longitude', 'Latitude', 'Link'], axis = 1, inplace=True)\n",
    "real_estate.dtypes\n"
   ]
  },
  {
   "cell_type": "code",
   "execution_count": 8,
   "metadata": {},
   "outputs": [],
   "source": [
    "#Removing rows that do not have prices (This may be used as a testing index)\n",
    "mod_real_estate = real_estate.drop(labels =real_estate[real_estate['Price (PHP)'] == 'na'].index, axis = 0)\n",
    "mod_real_estate['Price (PHP)'] = mod_real_estate['Price (PHP)'].str.replace(',','').astype(float)\n",
    "\n",
    "for i in range(4):\n",
    "    mod_real_estate.iloc[:,i+1] = pd.to_numeric(mod_real_estate.iloc[:,i+1], errors='coerce')"
   ]
  },
  {
   "cell_type": "code",
   "execution_count": 9,
   "metadata": {},
   "outputs": [
    {
     "name": "stdout",
     "output_type": "stream",
     "text": [
      "Before imputing the data \n",
      "\n",
      "NaN Values for Price (PHP): 0\n",
      "NaN Values for Bedrooms: 110\n",
      "NaN Values for Bath: 621\n",
      "NaN Values for Floor_area (sqm): 52\n",
      "NaN Values for Land_area (sqm): 1139\n",
      "NaN Values for municipality: 0\n",
      "NaN Values for city: 1\n",
      "=======================\n",
      "After imputing the data \n",
      "\n",
      "NaN Values for Price (PHP): 0\n",
      "NaN Values for Bedrooms: 0\n",
      "NaN Values for Bath: 0\n",
      "NaN Values for Floor_area (sqm): 0\n",
      "NaN Values for Land_area (sqm): 0\n",
      "NaN Values for municipality: 0\n",
      "NaN Values for city: 1\n"
     ]
    }
   ],
   "source": [
    "#Checking for NaN values under all the columns\n",
    "print('Before imputing the data', '\\n')\n",
    "for i in range(len(mod_real_estate.columns)):\n",
    "    print('NaN Values for {}: {}'.format(mod_real_estate.columns[i],mod_real_estate[mod_real_estate.columns[i]].isna().sum()))\n",
    "\n",
    "print('=======================')\n",
    "print('After imputing the data','\\n')\n",
    "#Removing NaN in the Bedrooms, Bath, Floor_area(sqm), and the Land_area(sqm)\n",
    "mod_real_estate.iloc[:,0:5]=mod_real_estate.iloc[:,0:5].replace(np.nan, 0)\n",
    "for i in range(len(mod_real_estate.columns)):\n",
    "    print('NaN Values for {}: {}'.format(mod_real_estate.columns[i],mod_real_estate[mod_real_estate.columns[i]].isna().sum()))"
   ]
  },
  {
   "cell_type": "code",
   "execution_count": 10,
   "metadata": {},
   "outputs": [],
   "source": [
    "# #Removing the row entry where the city is not available\n",
    "# mod_real_estate = mod_real_estate.drop(labels =mod_real_estate.city.isna().index,axis = 0)\n",
    "# for i in range(len(mod_real_estate.columns)):\n",
    "#     print('NaN Values for {}: {}'.format(mod_real_estate.columns[i],mod_real_estate[mod_real_estate.columns[i]].isna().sum()))"
   ]
  },
  {
   "cell_type": "markdown",
   "metadata": {},
   "source": [
    "# Exploratory Data Analysis"
   ]
  },
  {
   "cell_type": "markdown",
   "metadata": {},
   "source": [
    "## Histograms"
   ]
  },
  {
   "cell_type": "code",
   "execution_count": 11,
   "metadata": {},
   "outputs": [
    {
     "name": "stdout",
     "output_type": "stream",
     "text": [
      "Top 3 city with the most real estate offers\n",
      "Pasig          697\n",
      "Mandaluyong     96\n",
      "Quezon City     94\n",
      "Name: city, dtype: int64\n",
      "=============================\n"
     ]
    },
    {
     "name": "stderr",
     "output_type": "stream",
     "text": [
      "/var/folders/qg/90z639dn6ws7fn4d4_jsyky40000gn/T/ipykernel_2818/2814995736.py:13: MatplotlibDeprecationWarning: Support for passing numbers through unit converters is deprecated since 3.5 and support will be removed two minor releases later; use Axis.convert_units instead.\n",
      "  ax.set_xticks([])\n"
     ]
    },
    {
     "data": {
      "text/plain": [
       "<function matplotlib.pyplot.show(close=None, block=None)>"
      ]
     },
     "execution_count": 11,
     "metadata": {},
     "output_type": "execute_result"
    },
    {
     "data": {
      "image/png": "[encoded data removed]",
      "text/plain": [
       "<Figure size 432x288 with 1 Axes>"
      ]
     },
     "metadata": {
      "needs_background": "light"
     },
     "output_type": "display_data"
    }
   ],
   "source": [
    "#Obtaining the number of real estate per city\n",
    "print('Top 3 city with the most real estate offers')\n",
    "print(mod_real_estate.city.value_counts().nlargest(3))\n",
    "print('=============================')\n",
    "\n",
    "index_city = list(map(str,np.array(mod_real_estate.city.value_counts().reset_index()).T[0]))\n",
    "count_city =np.array(mod_real_estate.city.value_counts().reset_index()).T[1]\n",
    "norm_city = count_city/count_city.sum()\n",
    "# Histogram of the PClasses\n",
    "fig = plt.figure()\n",
    "ax = fig.add_axes([0,0,1,1])\n",
    "ax.bar(index_city, norm_city)\n",
    "ax.set_xticks([])\n",
    "plt.show"
   ]
  },
  {
   "cell_type": "markdown",
   "metadata": {},
   "source": [
    "From this, a focus will be done on the Pasig city, Quezon City, and Mandaluyong Area. Simialrly we check the municipality of these three cities as they have the most instances compared to the rest."
   ]
  },
  {
   "cell_type": "code",
   "execution_count": 12,
   "metadata": {},
   "outputs": [
    {
     "name": "stdout",
     "output_type": "stream",
     "text": [
      "Top 3 municipalities with the most real estate offers\n",
      "Ugong            262\n",
      "Ortigas CBD      151\n",
      "Oranbo           141\n",
      "San Antonio      139\n",
      "Highway Hills     73\n",
      "Name: municipality, dtype: int64\n",
      "=============================\n"
     ]
    },
    {
     "name": "stderr",
     "output_type": "stream",
     "text": [
      "/var/folders/qg/90z639dn6ws7fn4d4_jsyky40000gn/T/ipykernel_2818/601885069.py:13: MatplotlibDeprecationWarning: Support for passing numbers through unit converters is deprecated since 3.5 and support will be removed two minor releases later; use Axis.convert_units instead.\n",
      "  ax.set_xticks([])\n"
     ]
    },
    {
     "data": {
      "text/plain": [
       "<function matplotlib.pyplot.show(close=None, block=None)>"
      ]
     },
     "execution_count": 12,
     "metadata": {},
     "output_type": "execute_result"
    },
    {
     "data": {
      "image/png": "[encoded data removed]",
      "text/plain": [
       "<Figure size 432x288 with 1 Axes>"
      ]
     },
     "metadata": {
      "needs_background": "light"
     },
     "output_type": "display_data"
    }
   ],
   "source": [
    "#Obtaining the number of real estates per municipalities \n",
    "print('Top 3 municipalities with the most real estate offers')\n",
    "print(mod_real_estate.municipality.value_counts().nlargest(5))\n",
    "print('=============================')\n",
    "\n",
    "index_municipality = list(map(str,np.array(mod_real_estate.municipality.value_counts().reset_index()).T[0]))\n",
    "count_municipality =np.array(mod_real_estate.municipality.value_counts().reset_index()).T[1]\n",
    "norm_municipality = count_municipality/count_municipality.sum()\n",
    "# Histogram of the Municiplaities\n",
    "fig = plt.figure()\n",
    "ax = fig.add_axes([0,0,1,1])\n",
    "ax.bar(index_municipality, norm_municipality)\n",
    "ax.set_xticks([])\n",
    "plt.show"
   ]
  },
  {
   "cell_type": "markdown",
   "metadata": {},
   "source": [
    "The top 4 municipalities are in the Pasig area while the top 5 highest number of real estate offers is in the Mandaluyong area. "
   ]
  },
  {
   "cell_type": "code",
   "execution_count": 13,
   "metadata": {},
   "outputs": [],
   "source": [
    "def bin_range(df):\n",
    "    vals = df.values\n",
    "    bin_width = 2 * (iqr(vals) / (len(vals) ** (1./3)))\n",
    "    num_bins = int((np.amax(vals) + bin_width) / bin_width)\n",
    "    return bin_width, num_bins \n",
    "\n",
    "def histo_viz(df):\n",
    "    vals = df.values\n",
    "    bin_width, num_bins = bin_range(df)\n",
    "    hist = df.hist(bins=num_bins)\n",
    "    return hist"
   ]
  },
  {
   "cell_type": "code",
   "execution_count": 14,
   "metadata": {},
   "outputs": [
    {
     "name": "stdout",
     "output_type": "stream",
     "text": [
      "Bin width: 7.5808\n",
      "Number of bins: 150\n",
      "====================================\n"
     ]
    },
    {
     "data": {
      "image/png": "[encoded data removed]",
      "text/plain": [
       "<Figure size 432x288 with 1 Axes>"
      ]
     },
     "metadata": {
      "needs_background": "light"
     },
     "output_type": "display_data"
    }
   ],
   "source": [
    "# Data visualizations of the Land Area and the Floor Area\n",
    "\n",
    "width_fa, numbin_fa = bin_range(mod_real_estate['Floor_area (sqm)'])\n",
    "print('Bin width: {}'.format(round(width_fa,4)))\n",
    "print('Number of bins: {}'.format(numbin_fa))\n",
    "print('====================================')\n",
    "n_fa, binval_fa, patches_fa = plt.hist(mod_real_estate['Floor_area (sqm)'],bins=numbin_fa)\n",
    "norm_n_fa = list(map(round, n_fa/n_fa.sum()*100))\n",
    "# print('Count of each bin: {}'.format(n_fa))\n",
    "# print('Percentage of each bin: {}'.format(norm_n_fa))\n",
    "# temp = mod_real_estate['Land_area (sqm)'][mod_real_estate['Land_area (sqm)'] != 0]\n",
    "# width_la, numbin_la = bin_range([mod_real_estate['Land_area (sqm)'])\n",
    "#print('Bin width: {}'.format(round(width_la,4)))\n"
   ]
  },
  {
   "cell_type": "code",
   "execution_count": 15,
   "metadata": {},
   "outputs": [
    {
     "name": "stdout",
     "output_type": "stream",
     "text": [
      "Number of bins: 200\n",
      "====================================\n"
     ]
    },
    {
     "data": {
      "image/png": "[encoded data removed]",
      "text/plain": [
       "<Figure size 432x288 with 1 Axes>"
      ]
     },
     "metadata": {
      "needs_background": "light"
     },
     "output_type": "display_data"
    }
   ],
   "source": [
    "print('Number of bins: {}'.format(200))\n",
    "print('====================================')\n",
    "n_la, binval_la, patches_la = plt.hist(mod_real_estate['Land_area (sqm)'],bins=200)"
   ]
  },
  {
   "cell_type": "markdown",
   "metadata": {},
   "source": [
    "From the first visualization, we can see that most of the floor area fall around the 0 to 200 sqm while the land area must have some extremeties causing almost all the data falling under the 1e6*0 area. "
   ]
  },
  {
   "cell_type": "markdown",
   "metadata": {},
   "source": [
    "## Heat Map"
   ]
  },
  {
   "cell_type": "code",
   "execution_count": 16,
   "metadata": {},
   "outputs": [
    {
     "data": {
      "text/html": [
       "<div>\n",
       "<style scoped>\n",
       "    .dataframe tbody tr th:only-of-type {\n",
       "        vertical-align: middle;\n",
       "    }\n",
       "\n",
       "    .dataframe tbody tr th {\n",
       "        vertical-align: top;\n",
       "    }\n",
       "\n",
       "    .dataframe thead th {\n",
       "        text-align: right;\n",
       "    }\n",
       "</style>\n",
       "<table border=\"1\" class=\"dataframe\">\n",
       "  <thead>\n",
       "    <tr style=\"text-align: right;\">\n",
       "      <th></th>\n",
       "      <th>Price (PHP)</th>\n",
       "      <th>Bedrooms</th>\n",
       "      <th>Bath</th>\n",
       "      <th>Floor_area (sqm)</th>\n",
       "      <th>Land_area (sqm)</th>\n",
       "      <th>municipality</th>\n",
       "      <th>city</th>\n",
       "    </tr>\n",
       "  </thead>\n",
       "  <tbody>\n",
       "    <tr>\n",
       "      <th>0</th>\n",
       "      <td>15916180.0</td>\n",
       "      <td>2.0</td>\n",
       "      <td>2.0</td>\n",
       "      <td>74.0</td>\n",
       "      <td>0.0</td>\n",
       "      <td>Mactan</td>\n",
       "      <td>Lapu-Lapu</td>\n",
       "    </tr>\n",
       "    <tr>\n",
       "      <th>1</th>\n",
       "      <td>8730355.0</td>\n",
       "      <td>1.0</td>\n",
       "      <td>1.0</td>\n",
       "      <td>41.0</td>\n",
       "      <td>0.0</td>\n",
       "      <td>Mactan</td>\n",
       "      <td>Lapu-Lapu</td>\n",
       "    </tr>\n",
       "    <tr>\n",
       "      <th>2</th>\n",
       "      <td>27448000.0</td>\n",
       "      <td>0.0</td>\n",
       "      <td>0.0</td>\n",
       "      <td>82.0</td>\n",
       "      <td>0.0</td>\n",
       "      <td>San Antonio</td>\n",
       "      <td>Pasig</td>\n",
       "    </tr>\n",
       "    <tr>\n",
       "      <th>3</th>\n",
       "      <td>16011000.0</td>\n",
       "      <td>1.0</td>\n",
       "      <td>0.0</td>\n",
       "      <td>58.0</td>\n",
       "      <td>0.0</td>\n",
       "      <td>Ugong</td>\n",
       "      <td>Pasig</td>\n",
       "    </tr>\n",
       "    <tr>\n",
       "      <th>4</th>\n",
       "      <td>1935600.0</td>\n",
       "      <td>3.0</td>\n",
       "      <td>0.0</td>\n",
       "      <td>40.0</td>\n",
       "      <td>40.0</td>\n",
       "      <td>Tapia</td>\n",
       "      <td>General Trias</td>\n",
       "    </tr>\n",
       "    <tr>\n",
       "      <th>...</th>\n",
       "      <td>...</td>\n",
       "      <td>...</td>\n",
       "      <td>...</td>\n",
       "      <td>...</td>\n",
       "      <td>...</td>\n",
       "      <td>...</td>\n",
       "      <td>...</td>\n",
       "    </tr>\n",
       "    <tr>\n",
       "      <th>1495</th>\n",
       "      <td>11300000.0</td>\n",
       "      <td>1.0</td>\n",
       "      <td>1.0</td>\n",
       "      <td>0.0</td>\n",
       "      <td>0.0</td>\n",
       "      <td>Ortigas CBD</td>\n",
       "      <td>Pasig</td>\n",
       "    </tr>\n",
       "    <tr>\n",
       "      <th>1496</th>\n",
       "      <td>41924000.0</td>\n",
       "      <td>2.0</td>\n",
       "      <td>2.0</td>\n",
       "      <td>114.0</td>\n",
       "      <td>0.0</td>\n",
       "      <td>San Antonio</td>\n",
       "      <td>Pasig</td>\n",
       "    </tr>\n",
       "    <tr>\n",
       "      <th>1497</th>\n",
       "      <td>14278110.0</td>\n",
       "      <td>2.0</td>\n",
       "      <td>2.0</td>\n",
       "      <td>67.0</td>\n",
       "      <td>0.0</td>\n",
       "      <td>Bagumbayan</td>\n",
       "      <td>Quezon City</td>\n",
       "    </tr>\n",
       "    <tr>\n",
       "      <th>1498</th>\n",
       "      <td>7320000.0</td>\n",
       "      <td>1.0</td>\n",
       "      <td>2.0</td>\n",
       "      <td>50.0</td>\n",
       "      <td>0.0</td>\n",
       "      <td>San Antonio</td>\n",
       "      <td>Davao</td>\n",
       "    </tr>\n",
       "    <tr>\n",
       "      <th>1499</th>\n",
       "      <td>11054400.0</td>\n",
       "      <td>1.0</td>\n",
       "      <td>1.0</td>\n",
       "      <td>47.0</td>\n",
       "      <td>0.0</td>\n",
       "      <td>Ortigas CBD</td>\n",
       "      <td>Pasig</td>\n",
       "    </tr>\n",
       "  </tbody>\n",
       "</table>\n",
       "<p>1460 rows × 7 columns</p>\n",
       "</div>"
      ],
      "text/plain": [
       "      Price (PHP)  Bedrooms  Bath  Floor_area (sqm)  Land_area (sqm)  \\\n",
       "0      15916180.0       2.0   2.0              74.0              0.0   \n",
       "1       8730355.0       1.0   1.0              41.0              0.0   \n",
       "2      27448000.0       0.0   0.0              82.0              0.0   \n",
       "3      16011000.0       1.0   0.0              58.0              0.0   \n",
       "4       1935600.0       3.0   0.0              40.0             40.0   \n",
       "...           ...       ...   ...               ...              ...   \n",
       "1495   11300000.0       1.0   1.0               0.0              0.0   \n",
       "1496   41924000.0       2.0   2.0             114.0              0.0   \n",
       "1497   14278110.0       2.0   2.0              67.0              0.0   \n",
       "1498    7320000.0       1.0   2.0              50.0              0.0   \n",
       "1499   11054400.0       1.0   1.0              47.0              0.0   \n",
       "\n",
       "     municipality           city  \n",
       "0          Mactan      Lapu-Lapu  \n",
       "1          Mactan      Lapu-Lapu  \n",
       "2     San Antonio          Pasig  \n",
       "3           Ugong          Pasig  \n",
       "4           Tapia  General Trias  \n",
       "...           ...            ...  \n",
       "1495  Ortigas CBD          Pasig  \n",
       "1496  San Antonio          Pasig  \n",
       "1497   Bagumbayan    Quezon City  \n",
       "1498  San Antonio          Davao  \n",
       "1499  Ortigas CBD          Pasig  \n",
       "\n",
       "[1460 rows x 7 columns]"
      ]
     },
     "execution_count": 16,
     "metadata": {},
     "output_type": "execute_result"
    }
   ],
   "source": [
    "mod_real_estate"
   ]
  },
  {
   "cell_type": "code",
   "execution_count": 17,
   "metadata": {},
   "outputs": [
    {
     "name": "stdout",
     "output_type": "stream",
     "text": [
      "                  Bedrooms      Bath  Floor_area (sqm)  Land_area (sqm)\n",
      "Bedrooms          1.000000  0.044027          0.398069        -0.043345\n",
      "Bath              0.044027  1.000000         -0.004677        -0.029170\n",
      "Floor_area (sqm)  0.398069 -0.004677          1.000000        -0.036341\n",
      "Land_area (sqm)  -0.043345 -0.029170         -0.036341         1.000000\n",
      "================================\n",
      "Bedrooms            1\n",
      "Bath                0\n",
      "Floor_area (sqm)    1\n",
      "Land_area (sqm)     0\n",
      "dtype: int64\n",
      "================================\n",
      "Total number of correlations that fit into the desire correlation conditions: 2\n"
     ]
    }
   ],
   "source": [
    "temp = mod_real_estate.drop(['Price (PHP)'], axis=1)\n",
    "corr = temp.corr()\n",
    "print(corr)\n",
    "temp = corr[((corr > 0.3) & (corr != 1)) | ((corr < -0.3) & (corr != 1))]\n",
    "print('================================')\n",
    "print(temp.count())\n",
    "print('================================')\n",
    "print('Total number of correlations that fit into the desire correlation conditions: {}'. format(sum(temp.count())))"
   ]
  },
  {
   "cell_type": "markdown",
   "metadata": {},
   "source": [
    "From this, we can see that the two prominent variable that have a significant correlation between each other is the Bedrooms and the Floor_area (sqm) variables. Now, we move on to model fitting."
   ]
  },
  {
   "cell_type": "markdown",
   "metadata": {},
   "source": [
    "# Model Fitting"
   ]
  },
  {
   "cell_type": "code",
   "execution_count": 18,
   "metadata": {},
   "outputs": [],
   "source": [
    "from sklearn.model_selection import train_test_split\n",
    "from sklearn.linear_model import LinearRegression\n",
    "import statsmodels.api as sm\n",
    "import statsmodels.stats as stats\n",
    "from statsmodels.stats.anova import anova_lm\n"
   ]
  },
  {
   "cell_type": "code",
   "execution_count": 19,
   "metadata": {},
   "outputs": [],
   "source": [
    "#Creating a train and test set\n",
    "X_train, X_test, y_train, y_test = train_test_split(mod_real_estate.iloc[:,1:5],mod_real_estate.iloc[:,0], test_size = 0.2 )\n"
   ]
  },
  {
   "cell_type": "code",
   "execution_count": 20,
   "metadata": {},
   "outputs": [
    {
     "name": "stdout",
     "output_type": "stream",
     "text": [
      "                                 OLS Regression Results                                \n",
      "=======================================================================================\n",
      "Dep. Variable:            Price (PHP)   R-squared (uncentered):                   0.731\n",
      "Model:                            OLS   Adj. R-squared (uncentered):              0.731\n",
      "Method:                 Least Squares   F-statistic:                              792.6\n",
      "Date:                Fri, 03 Jun 2022   Prob (F-statistic):                        0.00\n",
      "Time:                        18:03:52   Log-Likelihood:                         -20511.\n",
      "No. Observations:                1168   AIC:                                  4.103e+04\n",
      "Df Residuals:                    1164   BIC:                                  4.105e+04\n",
      "Df Model:                           4                                                  \n",
      "Covariance Type:            nonrobust                                                  \n",
      "====================================================================================\n",
      "                       coef    std err          t      P>|t|      [0.025      0.975]\n",
      "------------------------------------------------------------------------------------\n",
      "Bedrooms         -2.765e+06   2.67e+05    -10.356      0.000   -3.29e+06   -2.24e+06\n",
      "Bath              6.658e+06   3.57e+05     18.628      0.000    5.96e+06    7.36e+06\n",
      "Floor_area (sqm)  1.832e+05   5689.027     32.211      0.000    1.72e+05    1.94e+05\n",
      "Land_area (sqm)     86.7934      9.768      8.886      0.000      67.629     105.958\n",
      "==============================================================================\n",
      "Omnibus:                      423.135   Durbin-Watson:                   1.961\n",
      "Prob(Omnibus):                  0.000   Jarque-Bera (JB):            96998.601\n",
      "Skew:                          -0.366   Prob(JB):                         0.00\n",
      "Kurtosis:                      47.638   Cond. No.                     3.86e+04\n",
      "==============================================================================\n",
      "\n",
      "Notes:\n",
      "[1] R² is computed without centering (uncentered) since the model does not contain a constant.\n",
      "[2] Standard Errors assume that the covariance matrix of the errors is correctly specified.\n",
      "[3] The condition number is large, 3.86e+04. This might indicate that there are\n",
      "strong multicollinearity or other numerical problems.\n"
     ]
    }
   ],
   "source": [
    "init_mod = sm.OLS(y_train, X_train).fit()\n",
    "print(init_mod.summary())"
   ]
  },
  {
   "cell_type": "markdown",
   "metadata": {},
   "source": [
    "Since all variables are significant up to the 0% level of significance, we do not need to adjust the model. Thus, it follows that we apply residual testing."
   ]
  },
  {
   "cell_type": "code",
   "execution_count": 21,
   "metadata": {},
   "outputs": [
    {
     "data": {
      "image/png": "[encoded data removed]",
      "text/plain": [
       "<Figure size 432x288 with 1 Axes>"
      ]
     },
     "metadata": {
      "needs_background": "light"
     },
     "output_type": "display_data"
    },
    {
     "data": {
      "image/png": "[encoded data removed]",
      "text/plain": [
       "<Figure size 432x288 with 1 Axes>"
      ]
     },
     "metadata": {
      "needs_background": "light"
     },
     "output_type": "display_data"
    }
   ],
   "source": [
    "res = init_mod.resid\n",
    "plt.scatter(list(range(1,len(res)+1)),res)\n",
    "fig = sm.qqplot(res)\n",
    "plt.show()"
   ]
  },
  {
   "cell_type": "code",
   "execution_count": 22,
   "metadata": {},
   "outputs": [
    {
     "data": {
      "text/plain": [
       "(96998.60084814635, 0.0, -0.36646085234771913, 47.638377670012495)"
      ]
     },
     "execution_count": 22,
     "metadata": {},
     "output_type": "execute_result"
    }
   ],
   "source": [
    "#Jarque-Barque Test\n",
    "stats.stattools.jarque_bera(res)"
   ]
  },
  {
   "cell_type": "markdown",
   "metadata": {},
   "source": [
    "Since the p-value is 0, this impies that the residuals are not normally distirbuted thus, the there is a lack of variables in prediciting house prices. Because of this, further studies would be important such as applying the location. This example will be doen shortly where the dataset will be filtered to only houses in Pasig. This is to use the same city as the basis.However, we check the prediction values of the test data first before proceeding."
   ]
  },
  {
   "cell_type": "markdown",
   "metadata": {},
   "source": [
    "## Predictions"
   ]
  },
  {
   "cell_type": "code",
   "execution_count": 23,
   "metadata": {},
   "outputs": [
    {
     "name": "stdout",
     "output_type": "stream",
     "text": [
      "Variance of the testing data: 140857792891251.88\n",
      "Variance of the predicted data: 67894662820055.375\n",
      "=======================================\n",
      "F-test's p-value: 1.0\n",
      "The predicted values are NOT statistically equal to the actual values.\n"
     ]
    }
   ],
   "source": [
    "y_pred = init_mod.predict(X_test)\n",
    "print('Variance of the testing data: {}'.format(round(np.var(y_test),4)))\n",
    "print('Variance of the predicted data: {}'.format(round(np.var(y_pred),4)))\n",
    "print('=======================================')\n",
    "F = np.var(y_test)/np.var(y_pred)\n",
    "df1 = len(y_test) - 1\n",
    "df2 = len(y_pred) - 1\n",
    "p_value = scipy.stats.f.cdf(F, df1, df2)\n",
    "print('F-test\\'s p-value: {}'.format(round(p_value,4)))\n",
    "if p_value < 0.05:\n",
    "    var = False\n",
    "else:\n",
    "    var = True\n",
    "\n",
    "\n",
    "ts, pval = scipy.stats.ttest_ind(y_pred, y_test, equal_var = var)\n",
    "if pval < 0.05:\n",
    "    print('The predicted values are statistically equal to the actual values.')\n",
    "else:\n",
    "    print('The predicted values are NOT statistically equal to the actual values.')\n"
   ]
  },
  {
   "cell_type": "markdown",
   "metadata": {},
   "source": [
    "# Pasig City"
   ]
  },
  {
   "cell_type": "markdown",
   "metadata": {},
   "source": [
    "The choice for Pasig city is because it contains the most number of avaioable real estate. Thus, would be a proper way to obtain prices."
   ]
  },
  {
   "cell_type": "markdown",
   "metadata": {},
   "source": [
    "## Data Cleaning"
   ]
  },
  {
   "cell_type": "code",
   "execution_count": 24,
   "metadata": {},
   "outputs": [
    {
     "name": "stdout",
     "output_type": "stream",
     "text": [
      "The number of real estate available in Pasig: 697\n"
     ]
    },
    {
     "data": {
      "text/html": [
       "<div>\n",
       "<style scoped>\n",
       "    .dataframe tbody tr th:only-of-type {\n",
       "        vertical-align: middle;\n",
       "    }\n",
       "\n",
       "    .dataframe tbody tr th {\n",
       "        vertical-align: top;\n",
       "    }\n",
       "\n",
       "    .dataframe thead th {\n",
       "        text-align: right;\n",
       "    }\n",
       "</style>\n",
       "<table border=\"1\" class=\"dataframe\">\n",
       "  <thead>\n",
       "    <tr style=\"text-align: right;\">\n",
       "      <th></th>\n",
       "      <th>Price (PHP)</th>\n",
       "      <th>Bedrooms</th>\n",
       "      <th>Bath</th>\n",
       "      <th>Floor_area (sqm)</th>\n",
       "      <th>Land_area (sqm)</th>\n",
       "      <th>municipality</th>\n",
       "      <th>city</th>\n",
       "    </tr>\n",
       "  </thead>\n",
       "  <tbody>\n",
       "    <tr>\n",
       "      <th>2</th>\n",
       "      <td>27448000.0</td>\n",
       "      <td>0.0</td>\n",
       "      <td>0.0</td>\n",
       "      <td>82.0</td>\n",
       "      <td>0.0</td>\n",
       "      <td>San Antonio</td>\n",
       "      <td>Pasig</td>\n",
       "    </tr>\n",
       "    <tr>\n",
       "      <th>3</th>\n",
       "      <td>16011000.0</td>\n",
       "      <td>1.0</td>\n",
       "      <td>0.0</td>\n",
       "      <td>58.0</td>\n",
       "      <td>0.0</td>\n",
       "      <td>Ugong</td>\n",
       "      <td>Pasig</td>\n",
       "    </tr>\n",
       "    <tr>\n",
       "      <th>6</th>\n",
       "      <td>13246000.0</td>\n",
       "      <td>1.0</td>\n",
       "      <td>1.0</td>\n",
       "      <td>46.0</td>\n",
       "      <td>0.0</td>\n",
       "      <td>Oranbo</td>\n",
       "      <td>Pasig</td>\n",
       "    </tr>\n",
       "    <tr>\n",
       "      <th>7</th>\n",
       "      <td>15492000.0</td>\n",
       "      <td>1.0</td>\n",
       "      <td>0.0</td>\n",
       "      <td>56.0</td>\n",
       "      <td>0.0</td>\n",
       "      <td>Ugong</td>\n",
       "      <td>Pasig</td>\n",
       "    </tr>\n",
       "    <tr>\n",
       "      <th>8</th>\n",
       "      <td>26930000.0</td>\n",
       "      <td>1.0</td>\n",
       "      <td>1.0</td>\n",
       "      <td>70.0</td>\n",
       "      <td>0.0</td>\n",
       "      <td>San Antonio</td>\n",
       "      <td>Pasig</td>\n",
       "    </tr>\n",
       "  </tbody>\n",
       "</table>\n",
       "</div>"
      ],
      "text/plain": [
       "   Price (PHP)  Bedrooms  Bath  Floor_area (sqm)  Land_area (sqm)  \\\n",
       "2   27448000.0       0.0   0.0              82.0              0.0   \n",
       "3   16011000.0       1.0   0.0              58.0              0.0   \n",
       "6   13246000.0       1.0   1.0              46.0              0.0   \n",
       "7   15492000.0       1.0   0.0              56.0              0.0   \n",
       "8   26930000.0       1.0   1.0              70.0              0.0   \n",
       "\n",
       "  municipality   city  \n",
       "2  San Antonio  Pasig  \n",
       "3        Ugong  Pasig  \n",
       "6       Oranbo  Pasig  \n",
       "7        Ugong  Pasig  \n",
       "8  San Antonio  Pasig  "
      ]
     },
     "execution_count": 24,
     "metadata": {},
     "output_type": "execute_result"
    }
   ],
   "source": [
    "pasig = mod_real_estate[mod_real_estate.city == 'Pasig']\n",
    "print('The number of real estate available in Pasig: {}'.format(len(pasig)))\n",
    "pasig.head()"
   ]
  },
  {
   "cell_type": "code",
   "execution_count": 25,
   "metadata": {},
   "outputs": [
    {
     "data": {
      "text/plain": [
       "697"
      ]
     },
     "execution_count": 25,
     "metadata": {},
     "output_type": "execute_result"
    }
   ],
   "source": [
    "len(pasig[pasig['Land_area (sqm)'] == 0])\n"
   ]
  },
  {
   "cell_type": "markdown",
   "metadata": {},
   "source": [
    "We note here that all entries for Pasig city are shown to be condominium units. Thus, this may change the values and the variables needed. Asjusting the dataset once more to remove unnecessary columns."
   ]
  },
  {
   "cell_type": "code",
   "execution_count": 26,
   "metadata": {},
   "outputs": [
    {
     "data": {
      "text/html": [
       "<div>\n",
       "<style scoped>\n",
       "    .dataframe tbody tr th:only-of-type {\n",
       "        vertical-align: middle;\n",
       "    }\n",
       "\n",
       "    .dataframe tbody tr th {\n",
       "        vertical-align: top;\n",
       "    }\n",
       "\n",
       "    .dataframe thead th {\n",
       "        text-align: right;\n",
       "    }\n",
       "</style>\n",
       "<table border=\"1\" class=\"dataframe\">\n",
       "  <thead>\n",
       "    <tr style=\"text-align: right;\">\n",
       "      <th></th>\n",
       "      <th>Price (PHP)</th>\n",
       "      <th>Bedrooms</th>\n",
       "      <th>Bath</th>\n",
       "      <th>Floor_area (sqm)</th>\n",
       "      <th>municipality</th>\n",
       "    </tr>\n",
       "  </thead>\n",
       "  <tbody>\n",
       "    <tr>\n",
       "      <th>2</th>\n",
       "      <td>27448000.0</td>\n",
       "      <td>0.0</td>\n",
       "      <td>0.0</td>\n",
       "      <td>82.0</td>\n",
       "      <td>San Antonio</td>\n",
       "    </tr>\n",
       "    <tr>\n",
       "      <th>3</th>\n",
       "      <td>16011000.0</td>\n",
       "      <td>1.0</td>\n",
       "      <td>0.0</td>\n",
       "      <td>58.0</td>\n",
       "      <td>Ugong</td>\n",
       "    </tr>\n",
       "    <tr>\n",
       "      <th>6</th>\n",
       "      <td>13246000.0</td>\n",
       "      <td>1.0</td>\n",
       "      <td>1.0</td>\n",
       "      <td>46.0</td>\n",
       "      <td>Oranbo</td>\n",
       "    </tr>\n",
       "    <tr>\n",
       "      <th>7</th>\n",
       "      <td>15492000.0</td>\n",
       "      <td>1.0</td>\n",
       "      <td>0.0</td>\n",
       "      <td>56.0</td>\n",
       "      <td>Ugong</td>\n",
       "    </tr>\n",
       "    <tr>\n",
       "      <th>8</th>\n",
       "      <td>26930000.0</td>\n",
       "      <td>1.0</td>\n",
       "      <td>1.0</td>\n",
       "      <td>70.0</td>\n",
       "      <td>San Antonio</td>\n",
       "    </tr>\n",
       "  </tbody>\n",
       "</table>\n",
       "</div>"
      ],
      "text/plain": [
       "   Price (PHP)  Bedrooms  Bath  Floor_area (sqm) municipality\n",
       "2   27448000.0       0.0   0.0              82.0  San Antonio\n",
       "3   16011000.0       1.0   0.0              58.0        Ugong\n",
       "6   13246000.0       1.0   1.0              46.0       Oranbo\n",
       "7   15492000.0       1.0   0.0              56.0        Ugong\n",
       "8   26930000.0       1.0   1.0              70.0  San Antonio"
      ]
     },
     "execution_count": 26,
     "metadata": {},
     "output_type": "execute_result"
    }
   ],
   "source": [
    "adj_pasig = pasig.drop(['Land_area (sqm)', 'city'], axis =1)\n",
    "adj_pasig.head()"
   ]
  },
  {
   "cell_type": "markdown",
   "metadata": {},
   "source": [
    "## EDA"
   ]
  },
  {
   "cell_type": "markdown",
   "metadata": {},
   "source": [
    "Showing a Histogram where the most number of real estate is available in each municipality"
   ]
  },
  {
   "cell_type": "code",
   "execution_count": 27,
   "metadata": {},
   "outputs": [
    {
     "name": "stdout",
     "output_type": "stream",
     "text": [
      "Top 5 municipalities with the most real estate offers\n",
      "Price (PHP)  Bedrooms  Bath  Floor_area (sqm)  Land_area (sqm)  municipality  city \n",
      "11054400.0   1.0       1.0   47.0              0.0              Ortigas CBD   Pasig    8\n",
      "15297000.0   1.0       0.0   56.0              0.0              Ugong         Pasig    7\n",
      "16076000.0   1.0       0.0   57.0              0.0              Ugong         Pasig    7\n",
      "16052000.0   1.0       0.0   58.0              0.0              Ugong         Pasig    6\n",
      "22111600.0   3.0       2.0   98.0              0.0              Ortigas CBD   Pasig    6\n",
      "dtype: int64\n",
      "=============================\n"
     ]
    },
    {
     "data": {
      "image/png": "[encoded data removed]",
      "text/plain": [
       "<Figure size 432x288 with 1 Axes>"
      ]
     },
     "metadata": {
      "needs_background": "light"
     },
     "output_type": "display_data"
    }
   ],
   "source": [
    "print('Top 5 municipalities with the most real estate offers')\n",
    "print(pasig.value_counts().nlargest(5))\n",
    "print('=============================')\n",
    "\n",
    "index_municipality = list(map(str,np.array(pasig.municipality.value_counts().reset_index()).T[0]))\n",
    "count_municipality =np.array(pasig.municipality.value_counts().reset_index()).T[1]\n",
    "norm_municipality = count_municipality/count_municipality.sum()\n",
    "# Histogram of the Municiplaities\n",
    "fig = plt.figure()\n",
    "ax = fig.add_axes([0,0,1,1])\n",
    "ax.bar(index_municipality, norm_municipality)\n",
    "# ax.set_xticks([])\n",
    "plt.show()"
   ]
  },
  {
   "cell_type": "markdown",
   "metadata": {},
   "source": [
    "This maybe be further studied later on whether classifying the municipality has an effect on the data. Checking the correlation of the data. "
   ]
  },
  {
   "cell_type": "code",
   "execution_count": 28,
   "metadata": {},
   "outputs": [
    {
     "name": "stdout",
     "output_type": "stream",
     "text": [
      "                  Bedrooms      Bath  Floor_area (sqm)\n",
      "Bedrooms          1.000000  0.677322          0.408650\n",
      "Bath              0.677322  1.000000          0.406383\n",
      "Floor_area (sqm)  0.408650  0.406383          1.000000\n",
      "================================\n",
      "Bedrooms            2\n",
      "Bath                2\n",
      "Floor_area (sqm)    2\n",
      "dtype: int64\n",
      "================================\n",
      "Total number of correlations that fit into the desire correlation conditions: 6\n"
     ]
    }
   ],
   "source": [
    "temp = adj_pasig.drop(['Price (PHP)'], axis=1)\n",
    "corr = temp.corr()\n",
    "print(corr)\n",
    "temp = corr[((corr > 0.3) & (corr != 1)) | ((corr < -0.3) & (corr != 1))]\n",
    "print('================================')\n",
    "print(temp.count())\n",
    "print('================================')\n",
    "print('Total number of correlations that fit into the desire correlation conditions: {}'. format(sum(temp.count())))"
   ]
  },
  {
   "cell_type": "markdown",
   "metadata": {},
   "source": [
    "From this, we can see that all variables chosen are shown to have a positive correlation with one another. This is mainly seen in the Bath and Bedrooms variable."
   ]
  },
  {
   "cell_type": "markdown",
   "metadata": {},
   "source": [
    "## Model Fitting"
   ]
  },
  {
   "cell_type": "markdown",
   "metadata": {},
   "source": [
    "Once again, we will be applying the linear model."
   ]
  },
  {
   "cell_type": "code",
   "execution_count": 29,
   "metadata": {},
   "outputs": [
    {
     "name": "stdout",
     "output_type": "stream",
     "text": [
      "                                 OLS Regression Results                                \n",
      "=======================================================================================\n",
      "Dep. Variable:            Price (PHP)   R-squared (uncentered):                   0.975\n",
      "Model:                            OLS   Adj. R-squared (uncentered):              0.975\n",
      "Method:                 Least Squares   F-statistic:                              7342.\n",
      "Date:                Fri, 03 Jun 2022   Prob (F-statistic):                        0.00\n",
      "Time:                        18:04:05   Log-Likelihood:                         -9238.9\n",
      "No. Observations:                 557   AIC:                                  1.848e+04\n",
      "Df Residuals:                     554   BIC:                                  1.850e+04\n",
      "Df Model:                           3                                                  \n",
      "Covariance Type:            nonrobust                                                  \n",
      "====================================================================================\n",
      "                       coef    std err          t      P>|t|      [0.025      0.975]\n",
      "------------------------------------------------------------------------------------\n",
      "Bedrooms         -3.322e+06   3.14e+05    -10.593      0.000   -3.94e+06   -2.71e+06\n",
      "Bath              2.395e+06   2.96e+05      8.093      0.000    1.81e+06    2.98e+06\n",
      "Floor_area (sqm)  3.428e+05   4365.375     78.534      0.000    3.34e+05    3.51e+05\n",
      "==============================================================================\n",
      "Omnibus:                      167.163   Durbin-Watson:                   1.874\n",
      "Prob(Omnibus):                  0.000   Jarque-Bera (JB):              913.444\n",
      "Skew:                           1.210   Prob(JB):                    4.45e-199\n",
      "Kurtosis:                       8.788   Cond. No.                         180.\n",
      "==============================================================================\n",
      "\n",
      "Notes:\n",
      "[1] R² is computed without centering (uncentered) since the model does not contain a constant.\n",
      "[2] Standard Errors assume that the covariance matrix of the errors is correctly specified.\n"
     ]
    }
   ],
   "source": [
    "X_train, X_test, y_train, y_test = train_test_split(adj_pasig.iloc[:,1:4],adj_pasig.iloc[:,0], test_size = 0.2 )\n",
    "mod2 = sm.OLS(y_train, X_train).fit()\n",
    "print(mod2.summary())"
   ]
  },
  {
   "cell_type": "markdown",
   "metadata": {},
   "source": [
    "Once again, we see that the variables are all significant in predicting the model. Now we move again to residual analysis."
   ]
  },
  {
   "cell_type": "code",
   "execution_count": 30,
   "metadata": {},
   "outputs": [
    {
     "data": {
      "image/png": "[encoded data removed]",
      "text/plain": [
       "<Figure size 432x288 with 1 Axes>"
      ]
     },
     "metadata": {
      "needs_background": "light"
     },
     "output_type": "display_data"
    },
    {
     "data": {
      "image/png": "[encoded data removed]",
      "text/plain": [
       "<Figure size 432x288 with 1 Axes>"
      ]
     },
     "metadata": {
      "needs_background": "light"
     },
     "output_type": "display_data"
    }
   ],
   "source": [
    "res2 = mod2.resid\n",
    "plt.scatter(list(range(1,len(res2)+1)),res2)\n",
    "fig = sm.qqplot(res2)\n",
    "plt.show()"
   ]
  },
  {
   "cell_type": "markdown",
   "metadata": {},
   "source": [
    "Once again, there are extremeties that cause the data to fluctuate however, this time the data looks a lot more normal and simialry the data is randomly distributed as seen from the scatter plot excluding the instances of the outliers."
   ]
  },
  {
   "cell_type": "code",
   "execution_count": 31,
   "metadata": {},
   "outputs": [
    {
     "data": {
      "text/plain": [
       "(913.444327959059,\n",
       " 4.4471770597493445e-199,\n",
       " 1.2101232983522157,\n",
       " 8.787993553492026)"
      ]
     },
     "execution_count": 31,
     "metadata": {},
     "output_type": "execute_result"
    }
   ],
   "source": [
    "stats.stattools.jarque_bera(res2)"
   ]
  },
  {
   "cell_type": "markdown",
   "metadata": {},
   "source": [
    "The data is shown to not be normally distirbuted, thus, there might be some other factors that are not understood. Thus, we apply a more refined dataset of real estate in the city of Pasig and a specific municipality."
   ]
  },
  {
   "cell_type": "markdown",
   "metadata": {},
   "source": [
    "## Predictions"
   ]
  },
  {
   "cell_type": "code",
   "execution_count": 32,
   "metadata": {},
   "outputs": [
    {
     "name": "stdout",
     "output_type": "stream",
     "text": [
      "Variance of the testing data: 272689459539528.0\n",
      "Variance of the predicted data: 191373519541536.34\n",
      "=======================================\n",
      "F-test's p-value: 0.9812\n",
      "The predicted values are NOT statistically equal to the actual values.\n"
     ]
    }
   ],
   "source": [
    "y_pred = mod2.predict(X_test)\n",
    "print('Variance of the testing data: {}'.format(round(np.var(y_test),4)))\n",
    "print('Variance of the predicted data: {}'.format(round(np.var(y_pred),4)))\n",
    "print('=======================================')\n",
    "F = np.var(y_test)/np.var(y_pred)\n",
    "df1 = len(y_test) - 1\n",
    "df2 = len(y_pred) - 1\n",
    "p_value = scipy.stats.f.cdf(F, df1, df2)\n",
    "print('F-test\\'s p-value: {}'.format(round(p_value,4)))\n",
    "if p_value < 0.05:\n",
    "    var = False\n",
    "else:\n",
    "    var = True\n",
    "\n",
    "\n",
    "ts, pval = scipy.stats.ttest_ind(y_pred, y_test, equal_var = var)\n",
    "if pval < 0.05:\n",
    "    print('The predicted values are statistically equal to the actual values.')\n",
    "else:\n",
    "    print('The predicted values are NOT statistically equal to the actual values.')\n"
   ]
  },
  {
   "cell_type": "markdown",
   "metadata": {},
   "source": [
    "# Choosing a Specific municiplaity"
   ]
  },
  {
   "cell_type": "markdown",
   "metadata": {},
   "source": [
    "## Data Cleaning"
   ]
  },
  {
   "cell_type": "code",
   "execution_count": 33,
   "metadata": {},
   "outputs": [
    {
     "data": {
      "text/html": [
       "<div>\n",
       "<style scoped>\n",
       "    .dataframe tbody tr th:only-of-type {\n",
       "        vertical-align: middle;\n",
       "    }\n",
       "\n",
       "    .dataframe tbody tr th {\n",
       "        vertical-align: top;\n",
       "    }\n",
       "\n",
       "    .dataframe thead th {\n",
       "        text-align: right;\n",
       "    }\n",
       "</style>\n",
       "<table border=\"1\" class=\"dataframe\">\n",
       "  <thead>\n",
       "    <tr style=\"text-align: right;\">\n",
       "      <th></th>\n",
       "      <th>Price (PHP)</th>\n",
       "      <th>Bedrooms</th>\n",
       "      <th>Bath</th>\n",
       "      <th>Floor_area (sqm)</th>\n",
       "    </tr>\n",
       "  </thead>\n",
       "  <tbody>\n",
       "    <tr>\n",
       "      <th>3</th>\n",
       "      <td>16011000.0</td>\n",
       "      <td>1.0</td>\n",
       "      <td>0.0</td>\n",
       "      <td>58.0</td>\n",
       "    </tr>\n",
       "    <tr>\n",
       "      <th>7</th>\n",
       "      <td>15492000.0</td>\n",
       "      <td>1.0</td>\n",
       "      <td>0.0</td>\n",
       "      <td>56.0</td>\n",
       "    </tr>\n",
       "    <tr>\n",
       "      <th>16</th>\n",
       "      <td>16618000.0</td>\n",
       "      <td>1.0</td>\n",
       "      <td>0.0</td>\n",
       "      <td>57.0</td>\n",
       "    </tr>\n",
       "    <tr>\n",
       "      <th>17</th>\n",
       "      <td>18160000.0</td>\n",
       "      <td>1.0</td>\n",
       "      <td>0.0</td>\n",
       "      <td>57.0</td>\n",
       "    </tr>\n",
       "    <tr>\n",
       "      <th>18</th>\n",
       "      <td>15669000.0</td>\n",
       "      <td>1.0</td>\n",
       "      <td>0.0</td>\n",
       "      <td>58.0</td>\n",
       "    </tr>\n",
       "  </tbody>\n",
       "</table>\n",
       "</div>"
      ],
      "text/plain": [
       "    Price (PHP)  Bedrooms  Bath  Floor_area (sqm)\n",
       "3    16011000.0       1.0   0.0              58.0\n",
       "7    15492000.0       1.0   0.0              56.0\n",
       "16   16618000.0       1.0   0.0              57.0\n",
       "17   18160000.0       1.0   0.0              57.0\n",
       "18   15669000.0       1.0   0.0              58.0"
      ]
     },
     "execution_count": 33,
     "metadata": {},
     "output_type": "execute_result"
    }
   ],
   "source": [
    "#Parameter\n",
    "mun = 'Ugong'\n",
    "\n",
    "mun_df = adj_pasig[adj_pasig.municipality == mun]\n",
    "mun_df = mun_df.drop(['municipality'], axis = 1)\n",
    "mun_df.head()"
   ]
  },
  {
   "cell_type": "markdown",
   "metadata": {},
   "source": [
    "## EDA"
   ]
  },
  {
   "cell_type": "code",
   "execution_count": 34,
   "metadata": {},
   "outputs": [
    {
     "name": "stdout",
     "output_type": "stream",
     "text": [
      "                  Bedrooms      Bath  Floor_area (sqm)\n",
      "Bedrooms          1.000000  0.366711          0.265653\n",
      "Bath              0.366711  1.000000          0.273390\n",
      "Floor_area (sqm)  0.265653  0.273390          1.000000\n",
      "================================\n",
      "Bedrooms            1\n",
      "Bath                1\n",
      "Floor_area (sqm)    0\n",
      "dtype: int64\n",
      "================================\n",
      "Total number of correlations that fit into the desire correlation conditions: 2\n"
     ]
    }
   ],
   "source": [
    "temp = mun_df.drop(['Price (PHP)'], axis = 1)\n",
    "corr = temp.corr()\n",
    "print(corr)\n",
    "temp = corr[((corr > 0.3) & (corr != 1)) | ((corr < -0.3) & (corr != 1))]\n",
    "print('================================')\n",
    "print(temp.count())\n",
    "print('================================')\n",
    "print('Total number of correlations that fit into the desire correlation conditions: {}'. format(sum(temp.count())))"
   ]
  },
  {
   "cell_type": "markdown",
   "metadata": {},
   "source": [
    "## Model Fitting"
   ]
  },
  {
   "cell_type": "code",
   "execution_count": 35,
   "metadata": {},
   "outputs": [
    {
     "name": "stdout",
     "output_type": "stream",
     "text": [
      "                                 OLS Regression Results                                \n",
      "=======================================================================================\n",
      "Dep. Variable:            Price (PHP)   R-squared (uncentered):                   0.996\n",
      "Model:                            OLS   Adj. R-squared (uncentered):              0.996\n",
      "Method:                 Least Squares   F-statistic:                          1.664e+04\n",
      "Date:                Fri, 03 Jun 2022   Prob (F-statistic):                   1.87e-245\n",
      "Time:                        18:04:12   Log-Likelihood:                         -3223.1\n",
      "No. Observations:                 209   AIC:                                      6452.\n",
      "Df Residuals:                     206   BIC:                                      6462.\n",
      "Df Model:                           3                                                  \n",
      "Covariance Type:            nonrobust                                                  \n",
      "====================================================================================\n",
      "                       coef    std err          t      P>|t|      [0.025      0.975]\n",
      "------------------------------------------------------------------------------------\n",
      "Bedrooms          3.584e+05   1.67e+05      2.147      0.033    2.93e+04    6.87e+05\n",
      "Bath              8.036e+05   2.37e+05      3.396      0.001    3.37e+05    1.27e+06\n",
      "Floor_area (sqm)  2.768e+05   2896.705     95.556      0.000    2.71e+05    2.83e+05\n",
      "==============================================================================\n",
      "Omnibus:                      220.935   Durbin-Watson:                   1.972\n",
      "Prob(Omnibus):                  0.000   Jarque-Bera (JB):             7838.112\n",
      "Skew:                           4.113   Prob(JB):                         0.00\n",
      "Kurtosis:                      31.851   Cond. No.                         190.\n",
      "==============================================================================\n",
      "\n",
      "Notes:\n",
      "[1] R² is computed without centering (uncentered) since the model does not contain a constant.\n",
      "[2] Standard Errors assume that the covariance matrix of the errors is correctly specified.\n"
     ]
    }
   ],
   "source": [
    "X_train, X_test, y_train, y_test = train_test_split(mun_df.iloc[:,1:4],mun_df.iloc[:,0], test_size = 0.2 )\n",
    "mod3 = sm.OLS(y_train, X_train).fit()\n",
    "print(mod3.summary())"
   ]
  },
  {
   "cell_type": "markdown",
   "metadata": {},
   "source": [
    "Since the bedrooms variable is not significant we create a new model to see whether a more parsimonious model is more effective"
   ]
  },
  {
   "cell_type": "code",
   "execution_count": 36,
   "metadata": {},
   "outputs": [
    {
     "data": {
      "image/png": "[encoded data removed]",
      "text/plain": [
       "<Figure size 432x288 with 1 Axes>"
      ]
     },
     "metadata": {
      "needs_background": "light"
     },
     "output_type": "display_data"
    },
    {
     "data": {
      "image/png": "[encoded data removed]",
      "text/plain": [
       "<Figure size 432x288 with 1 Axes>"
      ]
     },
     "metadata": {
      "needs_background": "light"
     },
     "output_type": "display_data"
    }
   ],
   "source": [
    "res3 = mod3.resid\n",
    "plt.scatter(list(range(1,len(res3)+1)),res3)\n",
    "fig = sm.qqplot(res3)\n",
    "plt.show()"
   ]
  },
  {
   "cell_type": "code",
   "execution_count": 37,
   "metadata": {},
   "outputs": [
    {
     "name": "stdout",
     "output_type": "stream",
     "text": [
      "                                 OLS Regression Results                                \n",
      "=======================================================================================\n",
      "Dep. Variable:            Price (PHP)   R-squared (uncentered):                   0.995\n",
      "Model:                            OLS   Adj. R-squared (uncentered):              0.995\n",
      "Method:                 Least Squares   F-statistic:                          1.957e+04\n",
      "Date:                Fri, 03 Jun 2022   Prob (F-statistic):                   1.37e-236\n",
      "Time:                        18:04:13   Log-Likelihood:                         -3257.8\n",
      "No. Observations:                 209   AIC:                                      6520.\n",
      "Df Residuals:                     207   BIC:                                      6526.\n",
      "Df Model:                           2                                                  \n",
      "Covariance Type:            nonrobust                                                  \n",
      "====================================================================================\n",
      "                       coef    std err          t      P>|t|      [0.025      0.975]\n",
      "------------------------------------------------------------------------------------\n",
      "Bath              1.048e+06   2.65e+05      3.960      0.000    5.26e+05    1.57e+06\n",
      "Floor_area (sqm)  2.854e+05   1663.563    171.560      0.000    2.82e+05    2.89e+05\n",
      "==============================================================================\n",
      "Omnibus:                      183.285   Durbin-Watson:                   1.828\n",
      "Prob(Omnibus):                  0.000   Jarque-Bera (JB):             2973.628\n",
      "Skew:                           3.382   Prob(JB):                         0.00\n",
      "Kurtosis:                      20.197   Cond. No.                         181.\n",
      "==============================================================================\n",
      "\n",
      "Notes:\n",
      "[1] R² is computed without centering (uncentered) since the model does not contain a constant.\n",
      "[2] Standard Errors assume that the covariance matrix of the errors is correctly specified.\n",
      "   df_resid           ssr  df_diff       ss_diff          F        Pr(>F)\n",
      "0     207.0  4.236358e+14      0.0           NaN        NaN           NaN\n",
      "1     206.0  3.038959e+14      1.0  1.197399e+14  81.167299  1.426030e-16\n"
     ]
    }
   ],
   "source": [
    "X_train, X_test, y_train, y_test = train_test_split(mun_df.iloc[:,2:4],mun_df.iloc[:,0], test_size = 0.2 )\n",
    "mod4 = sm.OLS(y_train, X_train).fit()\n",
    "print(mod4.summary())\n",
    "print(anova_lm(mod4, mod3))"
   ]
  },
  {
   "cell_type": "markdown",
   "metadata": {},
   "source": [
    "From, this, we see that model 4 is more parsimonious than model 3. Thus, we choose model 3. Now checking the residuals once more."
   ]
  },
  {
   "cell_type": "code",
   "execution_count": 38,
   "metadata": {},
   "outputs": [
    {
     "data": {
      "image/png": "[encoded data removed]",
      "text/plain": [
       "<Figure size 432x288 with 1 Axes>"
      ]
     },
     "metadata": {
      "needs_background": "light"
     },
     "output_type": "display_data"
    },
    {
     "data": {
      "image/png": "[encoded data removed]",
      "text/plain": [
       "<Figure size 432x288 with 1 Axes>"
      ]
     },
     "metadata": {
      "needs_background": "light"
     },
     "output_type": "display_data"
    }
   ],
   "source": [
    "res4 = mod4.resid\n",
    "plt.scatter(list(range(1,len(res4)+1)),res4)\n",
    "fig = sm.qqplot(res4)\n",
    "plt.show()"
   ]
  },
  {
   "cell_type": "code",
   "execution_count": 39,
   "metadata": {},
   "outputs": [
    {
     "data": {
      "text/plain": [
       "(2973.6284005655302, 0.0, 3.3818326270222894, 20.196572982670833)"
      ]
     },
     "execution_count": 39,
     "metadata": {},
     "output_type": "execute_result"
    }
   ],
   "source": [
    "stats.stattools.jarque_bera(res4)"
   ]
  },
  {
   "cell_type": "markdown",
   "metadata": {},
   "source": [
    "## Predictions"
   ]
  },
  {
   "cell_type": "code",
   "execution_count": 40,
   "metadata": {},
   "outputs": [
    {
     "name": "stdout",
     "output_type": "stream",
     "text": [
      "Variance of the testing data: 54625943829832.69\n",
      "Variance of the predicted data: 45348419623820.22\n",
      "=======================================\n",
      "F-test's p-value: 0.7477\n",
      "The predicted values are NOT statistically equal to the actual values.\n"
     ]
    }
   ],
   "source": [
    "y_pred = mod4.predict(X_test)\n",
    "print('Variance of the testing data: {}'.format(round(np.var(y_test),4)))\n",
    "print('Variance of the predicted data: {}'.format(round(np.var(y_pred),4)))\n",
    "print('=======================================')\n",
    "F = np.var(y_test)/np.var(y_pred)\n",
    "df1 = len(y_test) - 1\n",
    "df2 = len(y_pred) - 1\n",
    "p_value = scipy.stats.f.cdf(F, df1, df2)\n",
    "print('F-test\\'s p-value: {}'.format(round(p_value,4)))\n",
    "if p_value < 0.05:\n",
    "    var = False\n",
    "else:\n",
    "    var = True\n",
    "\n",
    "\n",
    "ts, pval = scipy.stats.ttest_ind(y_pred, y_test, equal_var = var)\n",
    "if pval < 0.05:\n",
    "    print('The predicted values are statistically equal to the actual values.')\n",
    "else:\n",
    "    print('The predicted values are NOT statistically equal to the actual values.')\n"
   ]
  },
  {
   "cell_type": "markdown",
   "metadata": {},
   "source": [
    "Thus, further variables are needed to predict the prices of housing than just the bedroom, bathroom, and the land_area. Other variables may be needed such as the utitlies near the real estate being offerred or the environment of the housing units."
   ]
  }
 ],
 "metadata": {
  "interpreter": {
   "hash": "164ec31c926a8b0cc5734cdf239277d072c38c3b6de00afabb9289be748b7f3d"
  },
  "kernelspec": {
   "display_name": "Python 3.10.4 ('venv')",
   "language": "python",
   "name": "python3"
  },
  "language_info": {
   "codemirror_mode": {
    "name": "ipython",
    "version": 3
   },
   "file_extension": ".py",
   "mimetype": "text/x-python",
   "name": "python",
   "nbconvert_exporter": "python",
   "pygments_lexer": "ipython3",
   "version": "3.10.4"
  },
  "orig_nbformat": 4
 },
 "nbformat": 4,
 "nbformat_minor": 2
}
