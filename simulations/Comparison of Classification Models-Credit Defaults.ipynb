{
 "cells": [
  {
   "cell_type": "markdown",
   "metadata": {},
   "source": [
    "# Loan Default Predictions"
   ]
  },
  {
   "cell_type": "markdown",
   "metadata": {},
   "source": [
    "Financial institution (in this case) banks have a set of variables to decide whether a person is worthy of being loaned money. In this case, it is important to see which features of a client is most prominent in finding out whther that client is more likely going to default on a loan."
   ]
  },
  {
   "cell_type": "markdown",
   "metadata": {},
   "source": [
    "# Imported packages"
   ]
  },
  {
   "cell_type": "code",
   "execution_count": 2,
   "metadata": {},
   "outputs": [],
   "source": [
    "import pandas as pd\n",
    "import numpy as np\n",
    "import sklearn as skl\n",
    "import matplotlib.pyplot as plt\n",
    "import scipy.stats as stats\n",
    "import os"
   ]
  },
  {
   "cell_type": "markdown",
   "metadata": {},
   "source": [
    "# Importing the dataset"
   ]
  },
  {
   "cell_type": "markdown",
   "metadata": {},
   "source": [
    "The dataset is obtained from Kaggle.com (Link: https://www.kaggle.com/datasets/kmldas/loan-default-prediction). In the dataset there are 10000 rows and 5 columns. The columns are as follows: \n",
    "1. Primary Key \n",
    "- Indexer \n",
    "2. Explanaroty Variables \n",
    "- Employed, Bank Balance, Annual Salary, and\n",
    "3. Exploratory Variable\n",
    "- Default (1 = Loan will default; 0 = Loan will NOT default)"
   ]
  },
  {
   "cell_type": "code",
   "execution_count": 7,
   "metadata": {},
   "outputs": [
    {
     "data": {
      "text/html": [
       "<div>\n",
       "<style scoped>\n",
       "    .dataframe tbody tr th:only-of-type {\n",
       "        vertical-align: middle;\n",
       "    }\n",
       "\n",
       "    .dataframe tbody tr th {\n",
       "        vertical-align: top;\n",
       "    }\n",
       "\n",
       "    .dataframe thead th {\n",
       "        text-align: right;\n",
       "    }\n",
       "</style>\n",
       "<table border=\"1\" class=\"dataframe\">\n",
       "  <thead>\n",
       "    <tr style=\"text-align: right;\">\n",
       "      <th></th>\n",
       "      <th>Employed</th>\n",
       "      <th>Bank Balance</th>\n",
       "      <th>Annual Salary</th>\n",
       "      <th>Defaulted?</th>\n",
       "    </tr>\n",
       "    <tr>\n",
       "      <th>Index</th>\n",
       "      <th></th>\n",
       "      <th></th>\n",
       "      <th></th>\n",
       "      <th></th>\n",
       "    </tr>\n",
       "  </thead>\n",
       "  <tbody>\n",
       "    <tr>\n",
       "      <th>1</th>\n",
       "      <td>1</td>\n",
       "      <td>8754.36</td>\n",
       "      <td>532339.56</td>\n",
       "      <td>0</td>\n",
       "    </tr>\n",
       "    <tr>\n",
       "      <th>2</th>\n",
       "      <td>0</td>\n",
       "      <td>9806.16</td>\n",
       "      <td>145273.56</td>\n",
       "      <td>0</td>\n",
       "    </tr>\n",
       "    <tr>\n",
       "      <th>3</th>\n",
       "      <td>1</td>\n",
       "      <td>12882.60</td>\n",
       "      <td>381205.68</td>\n",
       "      <td>0</td>\n",
       "    </tr>\n",
       "    <tr>\n",
       "      <th>4</th>\n",
       "      <td>1</td>\n",
       "      <td>6351.00</td>\n",
       "      <td>428453.88</td>\n",
       "      <td>0</td>\n",
       "    </tr>\n",
       "    <tr>\n",
       "      <th>5</th>\n",
       "      <td>1</td>\n",
       "      <td>9427.92</td>\n",
       "      <td>461562.00</td>\n",
       "      <td>0</td>\n",
       "    </tr>\n",
       "  </tbody>\n",
       "</table>\n",
       "</div>"
      ],
      "text/plain": [
       "       Employed  Bank Balance  Annual Salary  Defaulted?\n",
       "Index                                                   \n",
       "1             1       8754.36      532339.56           0\n",
       "2             0       9806.16      145273.56           0\n",
       "3             1      12882.60      381205.68           0\n",
       "4             1       6351.00      428453.88           0\n",
       "5             1       9427.92      461562.00           0"
      ]
     },
     "execution_count": 7,
     "metadata": {},
     "output_type": "execute_result"
    }
   ],
   "source": [
    "os.chdir('/Users/raph/projects/')\n",
    "loan_def = pd.read_csv('./simulations/datasets/Default_Fin.csv').set_index('Index')\n",
    "loan_def.head()"
   ]
  },
  {
   "cell_type": "markdown",
   "metadata": {},
   "source": [
    "# Data Preparation"
   ]
  },
  {
   "cell_type": "code",
   "execution_count": 10,
   "metadata": {},
   "outputs": [
    {
     "data": {
      "text/plain": [
       "Employed           int64\n",
       "Bank Balance     float64\n",
       "Annual Salary    float64\n",
       "Defaulted?         int64\n",
       "dtype: object"
      ]
     },
     "execution_count": 10,
     "metadata": {},
     "output_type": "execute_result"
    }
   ],
   "source": [
    "# Obtaining the type of data found in the dataset\n",
    "loan_def.dtypes"
   ]
  },
  {
   "cell_type": "code",
   "execution_count": 14,
   "metadata": {},
   "outputs": [
    {
     "data": {
      "text/html": [
       "<div>\n",
       "<style scoped>\n",
       "    .dataframe tbody tr th:only-of-type {\n",
       "        vertical-align: middle;\n",
       "    }\n",
       "\n",
       "    .dataframe tbody tr th {\n",
       "        vertical-align: top;\n",
       "    }\n",
       "\n",
       "    .dataframe thead th {\n",
       "        text-align: right;\n",
       "    }\n",
       "</style>\n",
       "<table border=\"1\" class=\"dataframe\">\n",
       "  <thead>\n",
       "    <tr style=\"text-align: right;\">\n",
       "      <th></th>\n",
       "      <th>Employed</th>\n",
       "      <th>Bank Balance</th>\n",
       "      <th>Annual Salary</th>\n",
       "    </tr>\n",
       "    <tr>\n",
       "      <th>Index</th>\n",
       "      <th></th>\n",
       "      <th></th>\n",
       "      <th></th>\n",
       "    </tr>\n",
       "  </thead>\n",
       "  <tbody>\n",
       "    <tr>\n",
       "      <th>1</th>\n",
       "      <td>1</td>\n",
       "      <td>8754.36</td>\n",
       "      <td>532339.56</td>\n",
       "    </tr>\n",
       "    <tr>\n",
       "      <th>2</th>\n",
       "      <td>0</td>\n",
       "      <td>9806.16</td>\n",
       "      <td>145273.56</td>\n",
       "    </tr>\n",
       "    <tr>\n",
       "      <th>3</th>\n",
       "      <td>1</td>\n",
       "      <td>12882.60</td>\n",
       "      <td>381205.68</td>\n",
       "    </tr>\n",
       "    <tr>\n",
       "      <th>4</th>\n",
       "      <td>1</td>\n",
       "      <td>6351.00</td>\n",
       "      <td>428453.88</td>\n",
       "    </tr>\n",
       "    <tr>\n",
       "      <th>5</th>\n",
       "      <td>1</td>\n",
       "      <td>9427.92</td>\n",
       "      <td>461562.00</td>\n",
       "    </tr>\n",
       "  </tbody>\n",
       "</table>\n",
       "</div>"
      ],
      "text/plain": [
       "       Employed  Bank Balance  Annual Salary\n",
       "Index                                       \n",
       "1             1       8754.36      532339.56\n",
       "2             0       9806.16      145273.56\n",
       "3             1      12882.60      381205.68\n",
       "4             1       6351.00      428453.88\n",
       "5             1       9427.92      461562.00"
      ]
     },
     "execution_count": 14,
     "metadata": {},
     "output_type": "execute_result"
    }
   ],
   "source": [
    "#Obtaining the explanatory data\n",
    "ind_df = loan_def.iloc[:,0:3]\n",
    "ind_df.head()"
   ]
  },
  {
   "cell_type": "code",
   "execution_count": 13,
   "metadata": {},
   "outputs": [
    {
     "data": {
      "text/plain": [
       "Index\n",
       "1    0\n",
       "2    0\n",
       "3    0\n",
       "4    0\n",
       "5    0\n",
       "Name: Defaulted?, dtype: int64"
      ]
     },
     "execution_count": 13,
     "metadata": {},
     "output_type": "execute_result"
    }
   ],
   "source": [
    "#Obtaining the exploratory data\n",
    "dep_df = loan_def.iloc[:,3]\n",
    "dep_df.head()"
   ]
  },
  {
   "cell_type": "markdown",
   "metadata": {},
   "source": [
    "# Data cleaning"
   ]
  },
  {
   "cell_type": "markdown",
   "metadata": {},
   "source": [
    "We will be checking whether there exists any null values in the dataset.\n"
   ]
  },
  {
   "cell_type": "code",
   "execution_count": 8,
   "metadata": {},
   "outputs": [
    {
     "data": {
      "text/plain": [
       "Employed  Bank Balance  Annual Salary  Defaulted?\n",
       "False     False         False          False         10000\n",
       "dtype: int64"
      ]
     },
     "execution_count": 8,
     "metadata": {},
     "output_type": "execute_result"
    }
   ],
   "source": [
    "loan_def.isna().value_counts()"
   ]
  },
  {
   "cell_type": "markdown",
   "metadata": {},
   "source": [
    "As seen from the cell above, we see that there does not exist any null values in any of the columns, thus, allowing us to move into EDA."
   ]
  },
  {
   "cell_type": "markdown",
   "metadata": {},
   "source": [
    "# EDA"
   ]
  },
  {
   "cell_type": "markdown",
   "metadata": {},
   "source": [
    "## Employed"
   ]
  },
  {
   "cell_type": "code",
   "execution_count": 30,
   "metadata": {},
   "outputs": [
    {
     "name": "stdout",
     "output_type": "stream",
     "text": [
      "Classification of the work status of the clients [1 = Employed, 0 = Unemployed]\n",
      "1    7056\n",
      "0    2944\n",
      "Name: Employed, dtype: int64\n",
      "====================================\n"
     ]
    },
    {
     "data": {
      "text/plain": [
       "<BarContainer object of 2 artists>"
      ]
     },
     "execution_count": 30,
     "metadata": {},
     "output_type": "execute_result"
    },
    {
     "data": {
      "image/png": "[encoded data removed]",
      "text/plain": [
       "<Figure size 432x288 with 1 Axes>"
      ]
     },
     "metadata": {
      "needs_background": "light"
     },
     "output_type": "display_data"
    }
   ],
   "source": [
    "#Employed\n",
    "print('Classification of the work status of the clients [1 = Employed, 0 = Unemployed]')\n",
    "print(ind_df.Employed.value_counts())\n",
    "print('====================================')\n",
    "norm_emp = ind_df.Employed.value_counts()/len(ind_df)\n",
    "plt.bar(['Employed','Unemployed'], norm_emp)\n"
   ]
  },
  {
   "cell_type": "markdown",
   "metadata": {},
   "source": [
    "A bit more than 70% of the clients of the financial institution is shown to be employed with the rest being unemployed."
   ]
  },
  {
   "cell_type": "markdown",
   "metadata": {},
   "source": [
    "## Bank Balance"
   ]
  },
  {
   "cell_type": "markdown",
   "metadata": {},
   "source": [
    "Here, we start by introducing the Diaconis-Freedman binning method."
   ]
  },
  {
   "cell_type": "code",
   "execution_count": 37,
   "metadata": {},
   "outputs": [],
   "source": [
    "from scipy.stats import iqr\n",
    "def bin_range(df):\n",
    "    vals = df.values\n",
    "    bin_width = 2 * (iqr(vals) / (len(vals) ** (1./3)))\n",
    "    num_bins = int((np.amax(vals) + bin_width) / bin_width)\n",
    "    return round(bin_width,2), num_bins\n",
    "\n",
    "def histo_viz(df):\n",
    "    vals = df.values\n",
    "    bin_width, num_bins = bin_range(df)\n",
    "    hist = df.hist(bins=num_bins)\n",
    "    return hist"
   ]
  },
  {
   "cell_type": "code",
   "execution_count": 43,
   "metadata": {},
   "outputs": [
    {
     "name": "stdout",
     "output_type": "stream",
     "text": [
      "The bin width is the following: 762.6\n",
      "The number of bins is the following: 42\n",
      "====================================\n"
     ]
    },
    {
     "data": {
      "image/png": "[encoded data removed]",
      "text/plain": [
       "<Figure size 432x288 with 1 Axes>"
      ]
     },
     "metadata": {
      "needs_background": "light"
     },
     "output_type": "display_data"
    }
   ],
   "source": [
    "bb_width, bb_numbins = bin_range(ind_df['Bank Balance'])\n",
    "print('The bin width is the following: {}'.format(bb_width))\n",
    "print('The number of bins is the following: {}'.format(bb_numbins))\n",
    "print('====================================')\n",
    "#Showing the historgram, which shows how the bank balances are distributed\n",
    "bb_n, bb_binval, bb_patches  = plt.hist(ind_df['Bank Balance'],bins=bb_numbins)\n"
   ]
  },
  {
   "cell_type": "markdown",
   "metadata": {},
   "source": [
    "We can see that the data shows a righted skewed or postively skewed distribution. We then normalize the results to show the percentages of clients in said bins."
   ]
  },
  {
   "cell_type": "code",
   "execution_count": 54,
   "metadata": {},
   "outputs": [
    {
     "name": "stdout",
     "output_type": "stream",
     "text": [
      "Percentage per bin\n",
      "Bin [0.0-758.38]: 6.59%\n",
      "Bin [758.38-1516.75]: 1.73%\n",
      "Bin [1516.75-2275.13]: 1.99%\n",
      "Bin [2275.13-3033.51]: 2.42%\n",
      "Bin [3033.51-3791.89]: 2.98%\n",
      "Bin [3791.89-4550.26]: 3.45%\n",
      "Bin [4550.26-5308.64]: 3.58%\n",
      "Bin [5308.64-6067.02]: 3.74%\n",
      "Bin [6067.02-6825.39]: 4.16%\n",
      "Bin [6825.39-7583.77]: 4.68%\n",
      "Bin [7583.77-8342.15]: 4.52%\n",
      "Bin [8342.15-9100.53]: 4.83%\n",
      "Bin [9100.53-9858.9]: 5.24%\n",
      "Bin [9858.9-10617.28]: 4.81%\n",
      "Bin [10617.28-11375.66]: 5.0%\n",
      "Bin [11375.66-12134.03]: 4.87%\n",
      "Bin [12134.03-12892.41]: 4.6%\n",
      "Bin [12892.41-13650.79]: 4.05%\n",
      "Bin [13650.79-14409.17]: 3.87%\n",
      "Bin [14409.17-15167.54]: 3.72%\n",
      "Bin [15167.54-15925.92]: 3.2%\n",
      "Bin [15925.92-16684.3]: 2.9%\n",
      "Bin [16684.3-17442.67]: 2.35%\n",
      "Bin [17442.67-18201.05]: 2.2%\n",
      "Bin [18201.05-18959.43]: 1.65%\n",
      "Bin [18959.43-19717.81]: 1.43%\n",
      "Bin [19717.81-20476.18]: 1.1%\n",
      "Bin [20476.18-21234.56]: 1.04%\n",
      "Bin [21234.56-21992.94]: 0.98%\n",
      "Bin [21992.94-22751.31]: 0.59%\n",
      "Bin [22751.31-23509.69]: 0.45%\n",
      "Bin [23509.69-24268.07]: 0.31%\n",
      "Bin [24268.07-25026.45]: 0.31%\n",
      "Bin [25026.45-25784.82]: 0.25%\n",
      "Bin [25784.82-26543.2]: 0.13%\n",
      "Bin [26543.2-27301.58]: 0.08%\n",
      "Bin [27301.58-28059.95]: 0.07%\n",
      "Bin [28059.95-28818.33]: 0.06%\n",
      "Bin [28818.33-29576.71]: 0.03%\n",
      "Bin [29576.71-30335.09]: 0.02%\n",
      "Bin [30335.09-31093.46]: 0.01%\n"
     ]
    }
   ],
   "source": [
    "print('Percentage per bin')\n",
    "for i in range(len(bb_n)-1):\n",
    "    print('Bin [{}-{}]: {}%'.format(round(bb_binval[i],2), round(bb_binval[i+1],2), round(bb_n[i]/len(ind_df)*100,2)))\n"
   ]
  },
  {
   "cell_type": "markdown",
   "metadata": {},
   "source": [
    "Choosing the top 5 bins, we obtain:"
   ]
  },
  {
   "cell_type": "code",
   "execution_count": 66,
   "metadata": {},
   "outputs": [
    {
     "name": "stdout",
     "output_type": "stream",
     "text": [
      "Bin [0.0-758.38]: 6.59%\n",
      "Bin [9100.53-9858.9]: 5.24%\n",
      "Bin [10617.28-11375.66]: 5.0%\n"
     ]
    }
   ],
   "source": [
    "sort_bb_n = np.argsort(bb_n)[::-1]\n",
    "for i in range(3):\n",
    "    j = sort_bb_n[i]\n",
    "    print('Bin [{}-{}]: {}%'.format(round(bb_binval[j],2), round(bb_binval[j+1],2), round(bb_n[j]/len(ind_df)*100,2)))\n"
   ]
  },
  {
   "cell_type": "markdown",
   "metadata": {},
   "source": [
    "## Annual Salary\n"
   ]
  },
  {
   "cell_type": "markdown",
   "metadata": {},
   "source": [
    "A similar take from the 'Bank Balance' will be done on the 'Annual Salary'"
   ]
  },
  {
   "cell_type": "code",
   "execution_count": 67,
   "metadata": {},
   "outputs": [
    {
     "name": "stdout",
     "output_type": "stream",
     "text": [
      "The bin width is the following: 25028.12\n",
      "The number of bins is the following: 36\n",
      "====================================\n"
     ]
    },
    {
     "data": {
      "image/png": "[encoded data removed]",
      "text/plain": [
       "<Figure size 432x288 with 1 Axes>"
      ]
     },
     "metadata": {
      "needs_background": "light"
     },
     "output_type": "display_data"
    }
   ],
   "source": [
    "as_width, as_numbins = bin_range(ind_df['Annual Salary'])\n",
    "print('The bin width is the following: {}'.format(as_width))\n",
    "print('The number of bins is the following: {}'.format(as_numbins))\n",
    "print('====================================')\n",
    "#Showing the historgram, which shows how the bank balances are distributed\n",
    "as_n, as_binval, as_patches  = plt.hist(ind_df['Annual Salary'],bins=as_numbins)"
   ]
  },
  {
   "cell_type": "markdown",
   "metadata": {},
   "source": [
    "From the data visualization, we can see that the data seem to be fairly bimodal. This must mean that majority of the clients fall around the $200,000 and between the $400,000 to $600,000 range for their annual salary. Now, we move to seeing whether there exists correlation among the variables."
   ]
  },
  {
   "cell_type": "markdown",
   "metadata": {},
   "source": [
    "## Correlation"
   ]
  },
  {
   "cell_type": "code",
   "execution_count": 77,
   "metadata": {},
   "outputs": [
    {
     "data": {
      "text/html": [
       "<div>\n",
       "<style scoped>\n",
       "    .dataframe tbody tr th:only-of-type {\n",
       "        vertical-align: middle;\n",
       "    }\n",
       "\n",
       "    .dataframe tbody tr th {\n",
       "        vertical-align: top;\n",
       "    }\n",
       "\n",
       "    .dataframe thead th {\n",
       "        text-align: right;\n",
       "    }\n",
       "</style>\n",
       "<table border=\"1\" class=\"dataframe\">\n",
       "  <thead>\n",
       "    <tr style=\"text-align: right;\">\n",
       "      <th></th>\n",
       "      <th>Employed</th>\n",
       "      <th>Bank Balance</th>\n",
       "      <th>Annual Salary</th>\n",
       "    </tr>\n",
       "  </thead>\n",
       "  <tbody>\n",
       "    <tr>\n",
       "      <th>Employed</th>\n",
       "      <td>1.000000</td>\n",
       "      <td>-0.203578</td>\n",
       "      <td>0.753985</td>\n",
       "    </tr>\n",
       "    <tr>\n",
       "      <th>Bank Balance</th>\n",
       "      <td>-0.203578</td>\n",
       "      <td>1.000000</td>\n",
       "      <td>-0.152243</td>\n",
       "    </tr>\n",
       "    <tr>\n",
       "      <th>Annual Salary</th>\n",
       "      <td>0.753985</td>\n",
       "      <td>-0.152243</td>\n",
       "      <td>1.000000</td>\n",
       "    </tr>\n",
       "  </tbody>\n",
       "</table>\n",
       "</div>"
      ],
      "text/plain": [
       "               Employed  Bank Balance  Annual Salary\n",
       "Employed       1.000000     -0.203578       0.753985\n",
       "Bank Balance  -0.203578      1.000000      -0.152243\n",
       "Annual Salary  0.753985     -0.152243       1.000000"
      ]
     },
     "execution_count": 77,
     "metadata": {},
     "output_type": "execute_result"
    }
   ],
   "source": [
    "corr = ind_df.corr()\n",
    "corr"
   ]
  },
  {
   "cell_type": "markdown",
   "metadata": {},
   "source": [
    "Filtering the correlations to values greater than 0.5, we have:"
   ]
  },
  {
   "cell_type": "code",
   "execution_count": 78,
   "metadata": {},
   "outputs": [
    {
     "name": "stdout",
     "output_type": "stream",
     "text": [
      "               Employed  Bank Balance  Annual Salary\n",
      "Employed            NaN           NaN       0.753985\n",
      "Bank Balance        NaN           NaN            NaN\n",
      "Annual Salary  0.753985           NaN            NaN\n",
      "================================\n",
      "Employed         1\n",
      "Bank Balance     0\n",
      "Annual Salary    1\n",
      "dtype: int64\n",
      "================================\n",
      "Total number of correlations that fit into the desire correlation conditions: 2\n"
     ]
    }
   ],
   "source": [
    "temp = corr[((corr > 0.5) & (corr != 1))]\n",
    "print(temp)\n",
    "print('================================')\n",
    "print(temp.count())\n",
    "print('================================')\n",
    "print('Total number of correlations that fit into the desire correlation conditions: {}'. format(sum(temp.count())))"
   ]
  },
  {
   "cell_type": "markdown",
   "metadata": {},
   "source": [
    "We can see that the varibales annual salary and the employment is correlated which is to be ecxpected. However interestingly enough we notice that bank balance is not correlated with the annual salary. We now move to model fitting."
   ]
  },
  {
   "cell_type": "markdown",
   "metadata": {},
   "source": [
    "# Model Fitting"
   ]
  },
  {
   "cell_type": "markdown",
   "metadata": {},
   "source": [
    "We will be testing three different models to decide which of the three models is the most suffieicnt and most effective in detecting whether a person will default on their loan. The models are as follows:\n",
    "\n",
    "1. Logistic Regression (Golden Standard)\n",
    "2. Naive Bayes Classifier\n",
    "3. K Nearest Neighbors (KNN)\n",
    "4. Classification and Regression Trees (Superior to Logistic Regression)"
   ]
  },
  {
   "cell_type": "markdown",
   "metadata": {},
   "source": [
    "## Preparing the data"
   ]
  },
  {
   "cell_type": "code",
   "execution_count": 79,
   "metadata": {},
   "outputs": [],
   "source": [
    "from sklearn.model_selection import train_test_split"
   ]
  },
  {
   "cell_type": "code",
   "execution_count": 80,
   "metadata": {},
   "outputs": [],
   "source": [
    "X_train, X_test, y_train, y_test = train_test_split(ind_df,dep_df, test_size = 0.2)"
   ]
  },
  {
   "cell_type": "markdown",
   "metadata": {},
   "source": [
    "## Logisitc Regression"
   ]
  },
  {
   "cell_type": "code",
   "execution_count": 85,
   "metadata": {},
   "outputs": [],
   "source": [
    "from sklearn.linear_model import LogisticRegression"
   ]
  },
  {
   "cell_type": "code",
   "execution_count": 91,
   "metadata": {},
   "outputs": [],
   "source": [
    "# Fitting into a logestic model\n",
    "logreg = LogisticRegression()\n",
    "logreg = logreg.fit(X_train, y_train)\n",
    "\n",
    "# Predicting the data\n",
    "y_pred = logreg.predict(X_test)"
   ]
  },
  {
   "cell_type": "markdown",
   "metadata": {},
   "source": [
    "### Evaluation Metrics"
   ]
  },
  {
   "cell_type": "markdown",
   "metadata": {},
   "source": [
    "#### Confusion Matrix"
   ]
  },
  {
   "cell_type": "code",
   "execution_count": 93,
   "metadata": {},
   "outputs": [],
   "source": [
    "from sklearn.metrics import confusion_matrix"
   ]
  },
  {
   "cell_type": "code",
   "execution_count": 102,
   "metadata": {},
   "outputs": [],
   "source": [
    "tn, fp, fn, tp = confusion_matrix(y_test, y_pred).ravel()"
   ]
  },
  {
   "cell_type": "code",
   "execution_count": 105,
   "metadata": {},
   "outputs": [
    {
     "name": "stdout",
     "output_type": "stream",
     "text": [
      "Accuracy: 96.6\n",
      "=====================\n",
      "Precision: 0.0%\n",
      "=====================\n",
      "Sensitivity: 0.0%\n",
      "=====================\n",
      "Specificity: 99.95%\n",
      "=====================\n",
      "False Postive Rate: 0.05%\n",
      "=====================\n",
      "F1-Score: nan\n",
      "=====================\n"
     ]
    },
    {
     "name": "stderr",
     "output_type": "stream",
     "text": [
      "/var/folders/qg/90z639dn6ws7fn4d4_jsyky40000gn/T/ipykernel_20924/3913414877.py:28: RuntimeWarning: invalid value encountered in double_scalars\n",
      "  f1 = 2*pre*sen/(pre+sen)\n"
     ]
    }
   ],
   "source": [
    "# bad accounts - entries mistakenly classified by the model.\n",
    "# Accuracy - How many accounts were correctly classified by the model\n",
    "acc = (tp+tn)/(tn+fp+fn+tp)\n",
    "print('Accuracy: {}'.format(round(acc*100,2)))\n",
    "print('=====================')\n",
    "\n",
    "# Precision - How accurate when identifying bad accounts\n",
    "pre = tp/(tp+fp)\n",
    "print('Precision: {}%'.format(round(pre*100,2)))\n",
    "print('=====================')\n",
    "\n",
    "#Sensitivity - How many of the bad accounts were correctly classified by the model\n",
    "sen = tp/(tp+fn)\n",
    "print('Sensitivity: {}%'.format(round(sen*100,2)))\n",
    "print('=====================')\n",
    "\n",
    "#Specificity - How many of the actual good accounts were correctly classified by the model\n",
    "spe = tn/(tn+fp)\n",
    "print('Specificity: {}%'.format(round(spe*100,2)))\n",
    "print('=====================')\n",
    "\n",
    "#False Positive Rate - How many of the actual good acounts were misclassified by the model.\n",
    "fpr = fp/(tn+fp)\n",
    "print('False Postive Rate: {}%'.format(round(fpr*100,2)))\n",
    "print('=====================')\n",
    "\n",
    "#F1-Score - Overall Score of the Model (The closer to 1 the better; the closer to 0 the worse)\n",
    "f1 = 2*pre*sen/(pre+sen)\n",
    "print('F1-Score: {}'.format(round(f1,2)))\n",
    "print('=====================')\n"
   ]
  },
  {
   "cell_type": "code",
   "execution_count": null,
   "metadata": {},
   "outputs": [],
   "source": []
  }
 ],
 "metadata": {
  "interpreter": {
   "hash": "164ec31c926a8b0cc5734cdf239277d072c38c3b6de00afabb9289be748b7f3d"
  },
  "kernelspec": {
   "display_name": "Python 3.10.4 ('venv')",
   "language": "python",
   "name": "python3"
  },
  "language_info": {
   "codemirror_mode": {
    "name": "ipython",
    "version": 3
   },
   "file_extension": ".py",
   "mimetype": "text/x-python",
   "name": "python",
   "nbconvert_exporter": "python",
   "pygments_lexer": "ipython3",
   "version": "3.10.4"
  },
  "orig_nbformat": 4
 },
 "nbformat": 4,
 "nbformat_minor": 2
}
