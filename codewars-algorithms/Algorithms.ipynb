{
 "cells": [
  {
   "cell_type": "markdown",
   "metadata": {},
   "source": [
    "# CodeWars Algorithms"
   ]
  },
  {
   "cell_type": "markdown",
   "metadata": {},
   "source": [
    "## 8th Kyu"
   ]
  },
  {
   "cell_type": "markdown",
   "metadata": {},
   "source": [
    "### Multiply"
   ]
  },
  {
   "cell_type": "code",
   "execution_count": null,
   "metadata": {},
   "outputs": [],
   "source": [
    "def multiply(a, b):\n",
    "    return a * b"
   ]
  },
  {
   "cell_type": "markdown",
   "metadata": {},
   "source": [
    "## 7th Kyu"
   ]
  },
  {
   "cell_type": "markdown",
   "metadata": {},
   "source": [
    "### Disemvowel Trolls"
   ]
  },
  {
   "cell_type": "code",
   "execution_count": null,
   "metadata": {},
   "outputs": [],
   "source": [
    "def disemvowel(string_):\n",
    "    vowel = ['a','e','i','o','u', 'A', 'E', 'I', 'O', 'U']\n",
    "    def split(string_):\n",
    "        return [char for char in string_]\n",
    "    string_lst = split(string_)\n",
    "    for i in range(len(string_lst)):\n",
    "        for j in vowel:\n",
    "            if string_lst[i] == j:\n",
    "                string_lst[i] = \"\"\n",
    "                break\n",
    "            else:\n",
    "                continue\n",
    "    string_com = \"\".join(string_lst)\n",
    "    return string_com"
   ]
  },
  {
   "cell_type": "markdown",
   "metadata": {},
   "source": [
    "### Jaden Casing String"
   ]
  },
  {
   "cell_type": "code",
   "execution_count": null,
   "metadata": {},
   "outputs": [],
   "source": [
    "import string\n",
    "\n",
    "def to_jaden_case(string_):\n",
    "    return string.capwords(string_)"
   ]
  },
  {
   "cell_type": "markdown",
   "metadata": {},
   "source": [
    "### Sum of Two Possible Lowest Integers"
   ]
  },
  {
   "cell_type": "code",
   "execution_count": null,
   "metadata": {},
   "outputs": [],
   "source": [
    "def sum_two_smallest_numbers(numbers):\n",
    "    min_1 = min(numbers)\n",
    "    numbers.remove(min_1)\n",
    "    min_2 = min(numbers)\n",
    "    return min_1 + min_2"
   ]
  },
  {
   "cell_type": "markdown",
   "metadata": {},
   "source": [
    "## 6th Kyu"
   ]
  },
  {
   "cell_type": "markdown",
   "metadata": {},
   "source": [
    "### Counting Duplicates"
   ]
  },
  {
   "cell_type": "code",
   "execution_count": null,
   "metadata": {},
   "outputs": [],
   "source": [
    "def duplicate_count(text):\n",
    "    text = text.upper()\n",
    "    def split(string):\n",
    "        return [char.upper() for char in string]\n",
    "    text_lst = split(text)\n",
    "    text_unique = list(set(text_lst))\n",
    "    N = 0\n",
    "    for i in range(len(text_unique)):\n",
    "        if text.count(text_unique[i])>1:\n",
    "            N += 1\n",
    "\n",
    "\n",
    "    return N"
   ]
  },
  {
   "cell_type": "markdown",
   "metadata": {},
   "source": [
    "### Persistent Bugger"
   ]
  },
  {
   "cell_type": "code",
   "execution_count": null,
   "metadata": {},
   "outputs": [],
   "source": [
    "def persistence(n):\n",
    "    # your code\n",
    "    def split(string):\n",
    "        return [char for char in string]\n",
    "    N = 0\n",
    "    while n > 9:\n",
    "        n_str = str(n)\n",
    "        num_lst = split(n_str)\n",
    "        n_new = 1\n",
    "        for i in range(len(num_lst)):\n",
    "            n_new = n_new * int(num_lst[i])\n",
    "        n = n_new\n",
    "        N += 1\n",
    "    return N"
   ]
  },
  {
   "cell_type": "markdown",
   "metadata": {},
   "source": [
    "### Bit Counting"
   ]
  },
  {
   "cell_type": "code",
   "execution_count": null,
   "metadata": {},
   "outputs": [],
   "source": [
    "def count_bits(n):\n",
    "    return str(bin(n)).count('1')"
   ]
  },
  {
   "cell_type": "markdown",
   "metadata": {},
   "source": [
    "### Who Likes It?"
   ]
  },
  {
   "cell_type": "code",
   "execution_count": null,
   "metadata": {},
   "outputs": [],
   "source": [
    "def likes(names):\n",
    "    # your code here\n",
    "    if len(names) == 0:\n",
    "        string = 'no one likes this'\n",
    "    elif len(names) == 1:\n",
    "        string = '{} likes this'.format(names[0])\n",
    "    elif len(names) == 2:\n",
    "        string = '{} and {} like this'.format(names[0], names[1])\n",
    "    elif len(names) == 3:\n",
    "        string = '{}, {} and {} like this'.format(names[0], names[1], names[2])\n",
    "    else:\n",
    "        string = '{}, {} and {} others like this'.format(names[0], names[1], str(len(names)-2))\n",
    "    return string"
   ]
  },
  {
   "cell_type": "markdown",
   "metadata": {},
   "source": [
    "### Is a number prime?"
   ]
  },
  {
   "cell_type": "code",
   "execution_count": 1,
   "metadata": {},
   "outputs": [],
   "source": [
    "from math import sqrt\n",
    "def is_prime(num):\n",
    "    if num <= 1:\n",
    "        return False\n",
    "    i = 2\n",
    "    while i <= sqrt(num):    \n",
    "        if num%i == 0:\n",
    "            return False\n",
    "        i += 1\n",
    "    return True "
   ]
  },
  {
   "cell_type": "markdown",
   "metadata": {},
   "source": [
    "### Odd integer"
   ]
  },
  {
   "cell_type": "code",
   "execution_count": null,
   "metadata": {},
   "outputs": [],
   "source": [
    "import pandas as pd\n",
    "import numpy as np\n",
    "\n",
    "def find_it(seq):\n",
    "    seq = np.array(seq)\n",
    "    if len(seq) == 1:\n",
    "        return seq[0]\n",
    "    arr = np.array(seq)\n",
    "    val, freq = np.unique(arr, return_counts= True)\n",
    "    temp = np.asarray((val,freq)).T\n",
    "    df = pd.DataFrame(temp, columns=['value', 'freq'])\n",
    "    odd_df = df[df.freq%2 != 0]\n",
    "    if np.max(odd_df.freq) == 1 and len(odd_df) > 1:\n",
    "        return None\n",
    "    index = odd_df[odd_df.freq == max(odd_df.freq)].index\n",
    "    return df.value[index].values[0]\n"
   ]
  },
  {
   "cell_type": "markdown",
   "metadata": {},
   "source": [
    "### Tribonacci Sequence"
   ]
  },
  {
   "cell_type": "code",
   "execution_count": null,
   "metadata": {},
   "outputs": [],
   "source": [
    "def tribonacci(signature, n):\n",
    "    tri = signature\n",
    "    for i in range(n-3):\n",
    "        entry = sum(tri[i:i+3])\n",
    "        tri.append(entry)\n",
    "    return tri[0:n]\n"
   ]
  },
  {
   "cell_type": "markdown",
   "metadata": {},
   "source": [
    "### Your order please"
   ]
  },
  {
   "cell_type": "code",
   "execution_count": null,
   "metadata": {},
   "outputs": [],
   "source": [
    "def order(sentense):\n",
    "    lst = sentense.split(' ')\n",
    "    comp = []\n",
    "    num = list(range(len(lst)))\n",
    "    num = [x+1 for x in num]\n",
    "    num = list(map(str,num))\n",
    "    for i in range(len(lst)):\n",
    "        for j in range(len(lst)):\n",
    "            if num[i] in lst[j]:\n",
    "                comp.append(lst[j])\n",
    "    return ' '.join(comp)"
   ]
  },
  {
   "cell_type": "markdown",
   "metadata": {},
   "source": [
    "## 5th Kyu"
   ]
  },
  {
   "cell_type": "markdown",
   "metadata": {},
   "source": [
    "### Product of Consecutive Fib Numbers"
   ]
  },
  {
   "cell_type": "code",
   "execution_count": null,
   "metadata": {},
   "outputs": [],
   "source": [
    "def productFib(prod):\n",
    "    # your code\n",
    "    F = 1\n",
    "    f_prod = 0\n",
    "    F_prev = 0\n",
    "    while prod > f_prod:\n",
    "        temp = F\n",
    "        F = F + F_prev\n",
    "        F_prev = temp\n",
    "        f_prod = F_prev * F\n",
    "    if f_prod == prod:\n",
    "        a = [F_prev, F, True]\n",
    "    else:\n",
    "        a = [F_prev, F, False]\n",
    "    \n",
    "    return a"
   ]
  }
 ],
 "metadata": {
  "kernelspec": {
   "display_name": "Python 3.10.4 ('venv')",
   "language": "python",
   "name": "python3"
  },
  "language_info": {
   "codemirror_mode": {
    "name": "ipython",
    "version": 3
   },
   "file_extension": ".py",
   "mimetype": "text/x-python",
   "name": "python",
   "nbconvert_exporter": "python",
   "pygments_lexer": "ipython3",
   "version": "3.10.4"
  },
  "orig_nbformat": 4,
  "vscode": {
   "interpreter": {
    "hash": "164ec31c926a8b0cc5734cdf239277d072c38c3b6de00afabb9289be748b7f3d"
   }
  }
 },
 "nbformat": 4,
 "nbformat_minor": 2
}
